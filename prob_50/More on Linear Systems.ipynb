{
 "cells": [
  {
   "cell_type": "code",
   "execution_count": 1,
   "metadata": {},
   "outputs": [],
   "source": [
    "import numpy as np\n",
    "from scipy.sparse import diags, linalg\n",
    "import matplotlib.pyplot as plt\n",
    "\n",
    "%matplotlib inline"
   ]
  },
  {
   "cell_type": "markdown",
   "metadata": {},
   "source": [
    "Many computation problems boil down to solving systems of linear equations.  Consider the system,\n",
    "\n",
    "\\begin{array}{lllll}\n",
    "2x_1 & +3x_2 & -x_3 & = & 6\\\\\n",
    "-4x_1 &   & x_3 & = & 7\\\\\n",
    "      & x_2 &  -2x_3 & = & 1\n",
    "\\end{array}"
   ]
  },
  {
   "cell_type": "markdown",
   "metadata": {},
   "source": [
    "We can write the above system in matrix form as:\n",
    "$$\\left(\n",
    "\\begin{matrix}\n",
    "2 & 3 & -1 \\\\\n",
    "-4 & 0 & 1 \\\\\n",
    "0 & 1 & -2\n",
    "\\end{matrix}\n",
    "\\right)\n",
    "\\left(\n",
    "\\begin{array}{c}\n",
    "x_1 \\\\\n",
    "x_2 \\\\\n",
    "x_3\n",
    "\\end{array}\n",
    "\\right) = \\left(\n",
    "\\begin{array}{c}\n",
    "6 \\\\\n",
    "7 \\\\ 1\n",
    "\\end{array}\n",
    "\\right)\n",
    "$$\n",
    "\n",
    "Then we can use Numpy's/Scipy's linear algebra function to find the inverse of the square matrix.  If we Multiply though by the inverse we get,\n",
    "$$\\left(\n",
    "\\begin{matrix}\n",
    "2 & 3 & -1 \\\\\n",
    "-4 & 0 & 1 \\\\\n",
    "0 & 1 & -2\n",
    "\\end{matrix}\n",
    "\\right)^{-1}\n",
    "\\left(\n",
    "\\begin{matrix}\n",
    "2 & 3 & -1 \\\\\n",
    "-4 & 0 & 1 \\\\\n",
    "0 & 1 & -2\n",
    "\\end{matrix}\n",
    "\\right)\n",
    "\\left(\n",
    "\\begin{array}{c}\n",
    "x_1 \\\\\n",
    "x_2 \\\\\n",
    "x_3\n",
    "\\end{array}\n",
    "\\right) = \n",
    "\\left(\n",
    "\\begin{matrix}\n",
    "2 & 3 & -1 \\\\\n",
    "-4 & 0 & 1 \\\\\n",
    "0 & 1 & -2\n",
    "\\end{matrix}\n",
    "\\right)^{-1}\n",
    "\\left(\n",
    "\\begin{array}{c}\n",
    "6 \\\\\n",
    "7 \\\\ 1\n",
    "\\end{array}\n",
    "\\right)\n",
    "$$\n",
    "\n",
    "Which becomes,\n",
    "\n",
    "$$\n",
    "\\left(\n",
    "\\begin{matrix}\n",
    "1 & 0 & 0 \\\\\n",
    "0 & 1 & 0 \\\\\n",
    "0 & 0 & 1 \n",
    "\\end{matrix}\n",
    "\\right)\n",
    "\\left(\n",
    "\\begin{array}{c}\n",
    "x \\\\\n",
    "y\\\\\n",
    "z\n",
    "\\end{array}\n",
    "\\right) = \\left(\n",
    "\\begin{matrix}\n",
    "2 & 3 & -1 \\\\\n",
    "-4 & 0 & 1 \\\\\n",
    "0 & 1 & -2\n",
    "\\end{matrix}\n",
    "\\right)^{-1}\n",
    "\\left(\n",
    "\\begin{array}{c}\n",
    "6 \\\\\n",
    "7 \\\\\n",
    "1 \n",
    "\\end{array}\n",
    "\\right)\n",
    "$$\n",
    "\n",
    "which gives our solution,\n",
    "$$\n",
    "\\left(\n",
    "\\begin{array}{c}\n",
    "x \\\\\n",
    "y\\\\\n",
    "z\n",
    "\\end{array}\n",
    "\\right) = \\left(\n",
    "\\begin{matrix}\n",
    "2 & 3 & -1 \\\\\n",
    "-4 & 0 & 1 \\\\\n",
    "0 & 1 & -2\n",
    "\\end{matrix}\n",
    "\\right)^{-1}\n",
    "\\left(\n",
    "\\begin{array}{c}\n",
    "6 \\\\\n",
    "7 \\\\\n",
    "1 \n",
    "\\end{array}\n",
    "\\right)\n",
    "$$\n",
    "\n",
    "While Numpy has a command <i>np.linalg.inv</i> to find the matrix inverse, we can solve the whole system with one line of code using <np.linalg.solve</i>.\n",
    "\n",
    "Let's solve the above system."
   ]
  },
  {
   "cell_type": "code",
   "execution_count": 2,
   "metadata": {},
   "outputs": [
    {
     "name": "stdout",
     "output_type": "stream",
     "text": [
      "[-1.45454545  3.36363636  1.18181818]\n",
      "5.999999999999999\n",
      "[6. 7. 1.]\n",
      "[-1.45454545  3.36363636  1.18181818]\n"
     ]
    }
   ],
   "source": [
    "#  Define our coefficient matrix and our vector of knowns.\n",
    "A = np.array( [[2, 3, -1], [-4, 0, 1], [0, 1, -2] ])\n",
    "Y = np.array( [6, 7, 1])\n",
    "\n",
    "#  Calculate and multiply though by the matrix inverse to get the solution.\n",
    "Ainv = np.linalg.inv(A)\n",
    "X = np.matmul(Ainv, Y)\n",
    "\n",
    "print(X)\n",
    "x1 = X[0]\n",
    "x2 = X[1]\n",
    "x3 = X[2]\n",
    "\n",
    "#  Test to see if our solution works.\n",
    "print(  2 * x1 + 3 * x2 - x3)\n",
    "print( np.matmul(A, X))\n",
    "\n",
    "#  We can do the same thing with a single line using the solve function.\n",
    "print( np.linalg.solve(A, Y) )"
   ]
  },
  {
   "cell_type": "markdown",
   "metadata": {},
   "source": [
    "##  Stock Simulator"
   ]
  },
  {
   "cell_type": "markdown",
   "metadata": {},
   "source": [
    "In a previous video, we used  Monte Carlo techniques to simulate the behavior of a stock.  Our model was,\n",
    "\n",
    "\\begin{equation}\n",
    "\\frac{S_{i+1} - S_i}{S_i} = r\\Delta t + \\sqrt{\\Delta t}\\sigma \\epsilon_i. \n",
    "\\end{equation}\n",
    "\n",
    "Which can be written as:\n",
    "\\begin{equation}\n",
    "S_{i+1} = S_i \\left(r\\Delta t + \\sqrt{\\Delta t}\\sigma \\epsilon_i\\right) + S_i\n",
    "\\end{equation}\n",
    "\n",
    "We can iterate with a for loop to get the price at each day:"
   ]
  },
  {
   "cell_type": "code",
   "execution_count": 3,
   "metadata": {},
   "outputs": [
    {
     "data": {
      "text/plain": [
       "[<matplotlib.lines.Line2D at 0x2a61cde14a8>]"
      ]
     },
     "execution_count": 3,
     "metadata": {},
     "output_type": "execute_result"
    },
    {
     "data": {
      "image/png": "[encoded data removed]",
      "text/plain": [
       "<Figure size 432x288 with 1 Axes>"
      ]
     },
     "metadata": {
      "needs_background": "light"
     },
     "output_type": "display_data"
    }
   ],
   "source": [
    "#  Set a constant seed to keep our different pieces of test code the same\n",
    "np.random.seed(2)\n",
    "\n",
    "#  Number of days in the simulation and the starting price of the stock.\n",
    "N_days = 5\n",
    "S = 100\n",
    "\n",
    "#  Define the risk-free rate, volatility and time step in days\n",
    "r = 0.01 / 252.0\n",
    "sigma = 0.3 / np.sqrt(252)\n",
    "dt = 1.0\n",
    "\n",
    "#  Sample numbers from the normal distribution for our Monte Carlo simulation\n",
    "epsilon = np.random.normal( size = N_days )\n",
    "\n",
    "#  Create a list to store our results and append the initial stock price to it.\n",
    "S_data = []\n",
    "S_data.append(S)\n",
    "\n",
    "#  Do the iteration using the formula above\n",
    "for i in range(N_days):\n",
    "    S = S * ( r * dt + np.sqrt(dt) * sigma * epsilon[i] ) + S\n",
    "    S_data.append(S)\n",
    "\n",
    "#  Plot the results\n",
    "plt.plot(S_data)"
   ]
  },
  {
   "cell_type": "markdown",
   "metadata": {},
   "source": [
    "While the above works fine, there are computationally more efficient ways to do this.  If one wanted to do, for example, real-time Monte Carlo simulation of dozens of stocks using 10,000 runs per simulation, the above code may not work so well.\n",
    "\n",
    "But note how we can write our model as a system of linear equations.\n",
    "\n",
    "Our original equation\n",
    "\\begin{equation}\n",
    "S_{i+1} = S_i \\left(r\\Delta t + \\sqrt{\\Delta t}\\sigma \\epsilon_i\\right) + S_i\n",
    "\\end{equation}\n",
    "To simplify notation,\n",
    "$$r\\Delta t + \\sqrt{\\Delta t}\\sigma \\epsilon_i = \\Lambda_i.$$\n",
    "Which gives,\n",
    "$$\n",
    "S_{i+1} = S_i \\Lambda_i + S_i\n",
    "$$\n",
    "Explicitly writing out the iterations,\n",
    "\\begin{equation}\\begin{array}{lcl}S_0                     & = & S_0 \\\\S_1 - S_0 \\Lambda_1 - S_0 & = &  0\\\\\\S_2 - S_1 \\Lambda_2 - S_1 & = & 0 \\\\S_3 - S_2 \\Lambda_3 - S_2 & = & 0 \\\\& \\vdots & \\\\S_i - _{i-} \\Lambda_i - S_{i-1} & = & 0 .\\\\\\end{array}\\label{unrolled}\\end{equation}\n",
    "In matrix form,\n",
    "\\begin{equation} \\left( \\begin{matrix} 1 & 0 & 0 & 0 & \\cdots & 0 \\\\ \\Lambda_1 + 1 & -1 & 0 & 0 & \\cdots & 0 \\\\ 0 & \\Lambda_2 + 1 & -1 & 0 & \\cdots & 0 \\\\ 0 & 0 & \\Lambda_3 + 1 & -1 & \\cdots & 0 \\\\ \\vdots & \\vdots & \\vdots & \\vdots & \\ddots & \\vdots \\\\ 0 & 0 & 0 & 0 & \\Lambda_5 + 1 & -1 \\end{matrix} \\right) \\left( \\begin{array}{c} S_0 \\\\ S_1 \\\\ S_2 \\\\ S_3 \\\\ \\vdots \\\\ S_i \\\\ \\end{array} \\right) = \\left( \\begin{array}{c} S_0 \\\\ 0 \\\\ 0 \\\\ 0 \\\\ \\vdots \\\\ 0 \\\\ \\end{array} \\right). \\label{simple_matrix} \\end{equation}\n",
    "\n",
    "Note also, the the above matrix is \"sparse\" meaning that almost all eintries are zero.  In many cases, we can take advantage of sparse matrix algorithms which can calculate the inverse quicker than if the matrix were dense.  Furthermore, since most entries are zero, we can save memory by only storing the non-zero entries along with their position in the matrix.\n",
    "\n",
    "Let's repeat the above calculation using the sparse matrix libraies from <i>scipy.sparse</i>."
   ]
  },
  {
   "cell_type": "code",
   "execution_count": 4,
   "metadata": {},
   "outputs": [
    {
     "data": {
      "image/png": "[encoded data removed]",
      "text/plain": [
       "<Figure size 432x288 with 1 Axes>"
      ]
     },
     "metadata": {
      "needs_background": "light"
     },
     "output_type": "display_data"
    }
   ],
   "source": [
    "#  Reset the random seed\n",
    "np.random.seed(2)\n",
    "\n",
    "#  Define the stock price initially, the number of days, the interest rate and volatility\n",
    "N_days = 5\n",
    "\n",
    "S0 = 100.0\n",
    "r = 0.01 / 252\n",
    "dt = 1.0\n",
    "sigma = 0.3 / np.sqrt(252)\n",
    "\n",
    "#  For the diags command, we need to define the entries on the diagonals.\n",
    "Lambda = r * dt + np.sqrt(dt) * sigma * epsilon\n",
    "ones = -np.ones( N_days + 1); ones[0] = 1\n",
    "L = Lambda + 1\n",
    "\n",
    "#  Build the matrix\n",
    "M = diags([L, ones], [-1, 0], format = 'csc')\n",
    "Y = np.zeros( N_days + 1); Y[0] = S0\n",
    "\n",
    "#  Solve the system\n",
    "S = linalg.spsolve(M, Y)\n",
    "plt.plot(S)\n",
    "plt.grid(True)"
   ]
  },
  {
   "cell_type": "code",
   "execution_count": 5,
   "metadata": {},
   "outputs": [
    {
     "name": "stdout",
     "output_type": "stream",
     "text": [
      "[100, 99.21636995313291, 99.11480606975978, 95.11744359403632, 98.06968807185457, 94.74972862038193]\n",
      "[100.          99.21636995  99.11480607  95.11744359  98.06968807\n",
      "  94.74972862]\n"
     ]
    },
    {
     "data": {
      "text/plain": [
       "True"
      ]
     },
     "execution_count": 5,
     "metadata": {},
     "output_type": "execute_result"
    }
   ],
   "source": [
    "#  Compare the results of the two methods to make sure they are the same.\n",
    "print(S_data)\n",
    "print(S)\n",
    "np.allclose(S_data, S)"
   ]
  },
  {
   "cell_type": "code",
   "execution_count": null,
   "metadata": {},
   "outputs": [],
   "source": []
  }
 ],
 "metadata": {
  "kernelspec": {
   "display_name": "Python 3",
   "language": "python",
   "name": "python3"
  },
  "language_info": {
   "codemirror_mode": {
    "name": "ipython",
    "version": 3
   },
   "file_extension": ".py",
   "mimetype": "text/x-python",
   "name": "python",
   "nbconvert_exporter": "python",
   "pygments_lexer": "ipython3",
   "version": "3.7.1"
  }
 },
 "nbformat": 4,
 "nbformat_minor": 2
}
