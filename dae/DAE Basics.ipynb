{
 "cells": [
  {
   "cell_type": "code",
   "execution_count": 40,
   "metadata": {},
   "outputs": [],
   "source": [
    "import numpy as np\n",
    "import matplotlib.pyplot as plt\n",
    "\n",
    "from scipy.interpolate import CubicSpline\n",
    "from scipy.integrate import solve_ivp\n",
    "\n",
    "from scipy.optimize import fsolve\n",
    "\n",
    "from assimulo.solvers import IDA\n",
    "from assimulo.problem import Implicit_Problem\n",
    "import matplotlib.pyplot as plt\n",
    "from assimulo.exception import TerminateSimulation\n",
    "\n",
    "\n",
    "%matplotlib inline"
   ]
  },
  {
   "cell_type": "markdown",
   "metadata": {},
   "source": [
    "##  Toy Battery Model\n",
    "An ideal voltage source whose voltage is a function of depth of discharge in series with a resistor in series with a resistor/capacitor block.\n",
    "<img src=\"./circuit_export.png\" width=\"40%\">\n",
    "\n",
    "The voltage across capacitor is given by,\n",
    "$$\\frac{dV_c}{dt} = \\frac{-V_c}{R_1 C_1} - \\frac{I}{C_1}$$\n",
    "\n",
    "$$V = U - V + I R_0$$\n",
    "\n",
    "Here, $U$ is the open circuit potential which is afunction of depth of discharge.  The depth of discharge is given by,\n",
    "$$\\frac{d\\quad dod}{dt} = \\frac{-I}{3600 \\times \\mbox{Cell Capacity}}$$\n",
    "\n",
    "Possible constraints:\n",
    "Current is a constant, $$I = I_0$$\n",
    "power is a constant, $$P = IV = P_0$$"
   ]
  },
  {
   "cell_type": "code",
   "execution_count": 41,
   "metadata": {},
   "outputs": [
    {
     "data": {
      "image/png": "[encoded data removed]",
      "text/plain": [
       "<Figure size 432x288 with 1 Axes>"
      ]
     },
     "metadata": {
      "needs_background": "light"
     },
     "output_type": "display_data"
    }
   ],
   "source": [
    "#  Define data points for our open circuit potential.\n",
    "OCP_values = np.array( [4.200, 4.147, 4.107, 4.073, 4.041, 4.012, 3.988, 3.960, 3.935, 3.908, 3.865, 3.802, 3.724, 3.633, 3.529, 3.410, 3.274, 3.128, 2.979, 2.829, 2.716] )\n",
    "dod_values = np.arange(0, 1.05, 0.05)\n",
    "\n",
    "#  Plot the OCP just to get a feel of how it changes with depth of discharge\n",
    "plt.plot(dod_values, OCP_values, 'o')\n",
    "plt.xlabel('Depth of Discharge')\n",
    "plt.ylabel('Open Circuit Voltage (V)')\n",
    "plt.grid(True)\n",
    "\n",
    "#  Create a spline object so we can interpolate to get a value at any valid depth of discharge\n",
    "V_ocp = CubicSpline(dod_values, OCP_values)"
   ]
  },
  {
   "cell_type": "markdown",
   "metadata": {},
   "source": [
    "##  Problem\n",
    "1)  Generate voltage as a function of time for a one hour discharge at a constant current of 1 A<br>\n",
    "2)  Generate voltage as a function of time for a one hour constant power discharge of -3.5 W."
   ]
  },
  {
   "cell_type": "markdown",
   "metadata": {},
   "source": [
    "###  Constant Current - solve_ivp\n",
    "\n",
    "Our constrain is $I_0 = $ constant."
   ]
  },
  {
   "cell_type": "code",
   "execution_count": 42,
   "metadata": {},
   "outputs": [],
   "source": [
    "class CC_ODE:\n",
    "    \n",
    "    #  Set values of the resistances and capacitance\n",
    "    R0 = 0.050\n",
    "    R1 = 0.040\n",
    "    C1 = 3000\n",
    "    \n",
    "    #  Set the cell capacity\n",
    "    capacity = 1.5\n",
    "    \n",
    "    def __init__(self, tspan, I):\n",
    "        self.I = I\n",
    "        \n",
    "        #  Set the initial value of the capacitor voltage\n",
    "        V_c0 = np.array([0])\n",
    "        \n",
    "        #  Solve the ODE and bind the solution object to the class varable sol\n",
    "        self.sol = solve_ivp(self.equations, (tspan[0], tspan[-1]), V_c0, t_eval = tspan)\n",
    "        self.Vc = self.sol.y\n",
    "        \n",
    "        #  Get the soultion times\n",
    "        self.t = self.sol.t\n",
    "        \n",
    "        #  Calculate the depth of discharge\n",
    "        self.dod =  -I * self.t / 3600 / self.capacity\n",
    "        \n",
    "        #  Calculate the open circuit voltage\n",
    "        self.U_ocp = V_ocp(self.dod)\n",
    "        \n",
    "        #  Calculate coltage and transpose it so it has the same shape as the time vector\n",
    "        self.V =self. U_ocp - self.Vc + self.I * self.R0\n",
    "        self.V = np.transpose(self.V)\n",
    "    \n",
    "    #  Define our differential equation.  The function is of the form\n",
    "    #  xprime = f(t, x)\n",
    "    def equations(self, t, x):\n",
    "        V_cap = x\n",
    "        return( - V_cap / (self.R1 * self.C1) - self.I / self.C1)"
   ]
  },
  {
   "cell_type": "code",
   "execution_count": 43,
   "metadata": {},
   "outputs": [
    {
     "data": {
      "image/png": "[encoded data removed]",
      "text/plain": [
       "<Figure size 432x288 with 1 Axes>"
      ]
     },
     "metadata": {
      "needs_background": "light"
     },
     "output_type": "display_data"
    }
   ],
   "source": [
    "#  Define our time span and run the simulation\n",
    "tspan = np.linspace(0, 3600, 100)\n",
    "cc_sim = CC_ODE(tspan, -1)\n",
    "\n",
    "#  Plot the results\n",
    "plt.plot(cc_sim.t, cc_sim.V, 'k')\n",
    "plt.xlabel('Time (s)')\n",
    "plt.ylabel('Voltage (V)')\n",
    "plt.grid(True)"
   ]
  },
  {
   "cell_type": "markdown",
   "metadata": {},
   "source": [
    "###  Constant Power - solve_ivp\n",
    "\n",
    "Our constraint is $P_0 = IV = $ constant."
   ]
  },
  {
   "cell_type": "code",
   "execution_count": 44,
   "metadata": {},
   "outputs": [],
   "source": [
    "class CP_ODE:\n",
    "    #  Set values of the resistances and capacitance\n",
    "    R0 = 0.050\n",
    "    R1 = 0.040\n",
    "    C1 = 3000\n",
    "    \n",
    "    #  Set the cell capacity\n",
    "    capacity = 1.5\n",
    "    \n",
    "    def __init__(self, tspan, P):\n",
    "        self.P0 = P\n",
    "        \n",
    "        #  We now have two differential equations and need two initial values.  Both happen to be zero\n",
    "        x0 = np.array([0, 0])\n",
    "        \n",
    "        #  Call the solver and store the results in class variables\n",
    "        self.sol = solve_ivp(self.equations, (tspan[0], tspan[-1]), x0, t_eval = tspan)\n",
    "        self.t = self.sol.t\n",
    "        self.V_cap = self.sol.y[0,:]\n",
    "        self.dod = self.sol.y[1,:]\n",
    "        \n",
    "        #  Lopp over the times and capacitor voltages and calculate the battery's voltage at each point.\n",
    "        #  The results are stored in the list V.\n",
    "        self.V = []\n",
    "        i = 0\n",
    "        for t in self.sol.t:\n",
    "            y = fsolve(self.alg_system, [3, -1], args = (self.V_cap[i], t, self.dod[i]))\n",
    "            self.V.append( y[0] )\n",
    "            i = i + 1\n",
    "        \n",
    "    #  Define the differential equations    \n",
    "    def equations(self, t, x):\n",
    "            \n",
    "        V_cap = x[0]\n",
    "        dod = x[1]\n",
    "        \n",
    "        #  At each t, we need to calculate the current based on the constraint equation.\n",
    "        y = fsolve(self.alg_system, [3, -1], args = (V_cap, t, dod))\n",
    "        I = y[1]\n",
    "            \n",
    "        return( [- V_cap / (self.R1 * self.C1) - I / self.C1,\n",
    "            -I  / 3600 / self.capacity] )\n",
    "        \n",
    "    #  This solves for our constraints  Returns the cell voltage and current based on time, dod, and the capacitor voltage.    \n",
    "    def alg_system(self, x, V_cap, t, dod):\n",
    "            \n",
    "        res = np.zeros(2)\n",
    "            \n",
    "        V       = x[0]\n",
    "        I  = x[1]\n",
    "            \n",
    "        U_ocp = V_ocp(dod)\n",
    "            \n",
    "        res[0] = -V +  U_ocp - V_cap + I * self.R0\n",
    "        res[1] = I * V - self.P0\n",
    "            \n",
    "        return res\n",
    "    \n",
    "    "
   ]
  },
  {
   "cell_type": "code",
   "execution_count": 45,
   "metadata": {
    "scrolled": true
   },
   "outputs": [
    {
     "data": {
      "image/png": "[encoded data removed]",
      "text/plain": [
       "<Figure size 432x288 with 1 Axes>"
      ]
     },
     "metadata": {
      "needs_background": "light"
     },
     "output_type": "display_data"
    }
   ],
   "source": [
    "#  Define our time span and run the simulation\n",
    "tspan = np.linspace(0, 3600, 100)\n",
    "cp_sim = CP_ODE(tspan, -3.5)\n",
    "\n",
    "#  Plot the results\n",
    "plt.plot(cp_sim.t, cp_sim.V, 'k')\n",
    "plt.xlabel('Time (s)')\n",
    "plt.ylabel('Voltage (V)')\n",
    "plt.grid(True)"
   ]
  },
  {
   "cell_type": "markdown",
   "metadata": {},
   "source": [
    "###  Constant Power - Assimulo"
   ]
  },
  {
   "cell_type": "code",
   "execution_count": 46,
   "metadata": {},
   "outputs": [],
   "source": [
    "class CP_DAE:\n",
    "    #  Set values of the resistances and capacitance\n",
    "    R0 = 0.050\n",
    "    R1 = 0.040\n",
    "    C1 = 3000\n",
    "    \n",
    "    #  Set the cell capacity\n",
    "    capacity = 1.5\n",
    "    \n",
    "    def  __init__(self, tspan, P):\n",
    "        self.P0 = P\n",
    "        \n",
    "        #  Our guesses at initial conditions\n",
    "        x0 = np.zeros( 4 )\n",
    "        x0[0] = 0\n",
    "        x0[1] = 3.5\n",
    "        x0[2] = -1\n",
    "        x0[3] = 0\n",
    "        \n",
    "        #  We also need the inital values of the derivatives.  These are unknown\n",
    "        xprime0 = np.zeros( 4 )\n",
    "        xprime0[0] = 0\n",
    "        xprime0[1] = 0\n",
    "        xprime0[2] = 0\n",
    "        xprime0[3] = 0\n",
    "        \n",
    "        #  Start simulation at time equals zero.\n",
    "        t0 = tspan[0]\n",
    "        \n",
    "        #  Switch vector and a vector saying which variables are differential or algebraic.\n",
    "        sw0 = [False, False, False, False]\n",
    "        algvar = [True, False, False, True]\n",
    "        \n",
    "        #  Create a problem object\n",
    "        model = Implicit_Problem(self.equation, x0, xprime0, t0, sw0 = sw0)\n",
    "        \n",
    "        #  Create a solver, attach algvar.\n",
    "        sim = IDA(model)\n",
    "        sim.algvar = algvar\n",
    "        \n",
    "        #  Tell the solver to calculate consistant initial conditions.\n",
    "        sim.make_consistent('IDA_YA_YDP_INIT')\n",
    "        \n",
    "        #  Run the simulation and bind the results to class variables.\n",
    "        t, x, xp = sim.simulate(tspan[-1], 100)\n",
    "        self.t = t\n",
    "        self.x = x\n",
    "        \n",
    "        self.V = x[:,1]\n",
    "    \n",
    "    #  Our DAE system.  Has the form:\n",
    "    #  0 = f(t, x, xprime, sw)\n",
    "    def equation(self, t, x, xprime, sw):\n",
    "        res = np.zeros(4)\n",
    "        \n",
    "        V_cap  = x[0]\n",
    "        V = x[1]\n",
    "        I = x[2]\n",
    "        dod = x[3]\n",
    "        \n",
    "        U_ocp = V_ocp(dod)\n",
    "        \n",
    "        res[0] = -xprime[0] - V_cap / (self.R1 * self.C1) - I / self.C1\n",
    "        res[1] = -V +  U_ocp - V_cap + I * self.R0\n",
    "        res[2] = I * V - self.P0\n",
    "        res[3] = xprime[3] - (-I  / 3600 / self.capacity)\n",
    "        \n",
    "        return res\n",
    "        "
   ]
  },
  {
   "cell_type": "code",
   "execution_count": 47,
   "metadata": {},
   "outputs": [
    {
     "name": "stdout",
     "output_type": "stream",
     "text": [
      "Final Run Statistics: --- \n",
      "\n",
      " Number of steps                                 : 113\n",
      " Number of function evaluations                  : 167\n",
      " Number of Jacobian evaluations                  : 24\n",
      " Number of function eval. due to Jacobian eval.  : 96\n",
      " Number of error test failures                   : 10\n",
      " Number of nonlinear iterations                  : 167\n",
      " Number of nonlinear convergence failures        : 0\n",
      "\n",
      "Solver options:\n",
      "\n",
      " Solver                       : IDA (BDF)\n",
      " Maximal order                : 5\n",
      " Suppressed algebr. variables : False\n",
      " Tolerances (absolute)        : 1e-06\n",
      " Tolerances (relative)        : 1e-06\n",
      "\n",
      "Simulation interval    : 0.0 - 3600.0 seconds.\n",
      "Elapsed simulation time: 0.006871699999919656 seconds.\n"
     ]
    }
   ],
   "source": [
    "#  Define the time span and run the simulation\n",
    "tspan = np.linspace(0, 3600, 100)\n",
    "dae_cp_sim = CP_DAE(tspan, -3.5)"
   ]
  },
  {
   "cell_type": "code",
   "execution_count": 48,
   "metadata": {},
   "outputs": [
    {
     "data": {
      "image/png": "[encoded data removed]",
      "text/plain": [
       "<Figure size 432x288 with 1 Axes>"
      ]
     },
     "metadata": {
      "needs_background": "light"
     },
     "output_type": "display_data"
    }
   ],
   "source": [
    "#  Plot the results\n",
    "plt.plot(dae_cp_sim.t, dae_cp_sim.V, 'k')\n",
    "plt.xlabel('Time (s)')\n",
    "plt.ylabel('Voltage (V)')\n",
    "plt.grid(True)"
   ]
  },
  {
   "cell_type": "markdown",
   "metadata": {},
   "source": [
    "###  Constant Current - Assimulo"
   ]
  },
  {
   "cell_type": "code",
   "execution_count": 49,
   "metadata": {},
   "outputs": [],
   "source": [
    "class CC_DAE:\n",
    "    #  Set values of the resistances and capacitance\n",
    "    R0 = 0.050\n",
    "    R1 = 0.040\n",
    "    C1 = 3000\n",
    "    \n",
    "    #  Set the cell capacity\n",
    "    capacity = 1.5\n",
    "    \n",
    "    def  __init__(self, tspan, I):\n",
    "        self.I0 = I\n",
    "        \n",
    "        #Initial values\n",
    "        x0 = np.zeros( 4 )\n",
    "        x0[0] = 0\n",
    "        x0[1] = 3.5\n",
    "        x0[2] = -1\n",
    "        x0[3] = 0\n",
    "        \n",
    "        xprime0 = np.zeros( 4 )\n",
    "        xprime0[0] = 0\n",
    "        xprime0[1] = 0\n",
    "        xprime0[2] = 0\n",
    "        xprime0[3] = 0\n",
    "        \n",
    "        t0 = tspan[0]\n",
    "        \n",
    "        #  Switch and algvar\n",
    "        sw0 = [False, False, False, False]\n",
    "        algvar = [True, False, False, True]\n",
    "        \n",
    "        model = Implicit_Problem(self.equation, x0, xprime0, t0, sw0 = sw0)\n",
    "        \n",
    "        sim = IDA(model)\n",
    "        sim.algvar = algvar\n",
    "        sim.make_consistent('IDA_YA_YDP_INIT')\n",
    "        \n",
    "        t, x, xp = sim.simulate(tspan[-1], 100)\n",
    "        self.t = t\n",
    "        self.x = x\n",
    "        \n",
    "        self.V = x[:,1]\n",
    "        \n",
    "    def equation(self, t, x, xprime, sw):\n",
    "        res = np.zeros(4)\n",
    "        \n",
    "        V_cap  = x[0]\n",
    "        V = x[1]\n",
    "        I = x[2]\n",
    "        dod = x[3]\n",
    "        \n",
    "        U_ocp = V_ocp(dod)\n",
    "        \n",
    "        res[0] = -xprime[0] - V_cap / (self.R1 * self.C1) - I / self.C1\n",
    "        res[1] = -V +  U_ocp - V_cap + I * self.R0\n",
    "        res[2] = I - self.I0\n",
    "        res[3] = xprime[3] - (-I  / 3600 / self.capacity)\n",
    "        \n",
    "        return res\n",
    "        "
   ]
  },
  {
   "cell_type": "code",
   "execution_count": 50,
   "metadata": {},
   "outputs": [
    {
     "name": "stdout",
     "output_type": "stream",
     "text": [
      "Final Run Statistics: --- \n",
      "\n",
      " Number of steps                                 : 108\n",
      " Number of function evaluations                  : 176\n",
      " Number of Jacobian evaluations                  : 45\n",
      " Number of function eval. due to Jacobian eval.  : 180\n",
      " Number of error test failures                   : 17\n",
      " Number of nonlinear iterations                  : 176\n",
      " Number of nonlinear convergence failures        : 0\n",
      "\n",
      "Solver options:\n",
      "\n",
      " Solver                       : IDA (BDF)\n",
      " Maximal order                : 5\n",
      " Suppressed algebr. variables : False\n",
      " Tolerances (absolute)        : 1e-06\n",
      " Tolerances (relative)        : 1e-06\n",
      "\n",
      "Simulation interval    : 0.0 - 3600.0 seconds.\n",
      "Elapsed simulation time: 0.008230699999785429 seconds.\n"
     ]
    }
   ],
   "source": [
    "#  Define the time span and run the simultation\n",
    "tspan = np.linspace(0, 3600, 100)\n",
    "dae_cc_sim = CC_DAE(tspan, -1)"
   ]
  },
  {
   "cell_type": "code",
   "execution_count": 51,
   "metadata": {},
   "outputs": [
    {
     "data": {
      "image/png": "[encoded data removed]",
      "text/plain": [
       "<Figure size 432x288 with 1 Axes>"
      ]
     },
     "metadata": {
      "needs_background": "light"
     },
     "output_type": "display_data"
    }
   ],
   "source": [
    "#  Plot the results\n",
    "plt.plot(dae_cc_sim.t, dae_cc_sim.V, 'k')\n",
    "plt.xlabel('Time (s)')\n",
    "plt.ylabel('Voltage (V)')\n",
    "plt.grid(True)"
   ]
  },
  {
   "cell_type": "code",
   "execution_count": null,
   "metadata": {},
   "outputs": [],
   "source": []
  }
 ],
 "metadata": {
  "kernelspec": {
   "display_name": "Python 3",
   "language": "python",
   "name": "python3"
  },
  "language_info": {
   "codemirror_mode": {
    "name": "ipython",
    "version": 3
   },
   "file_extension": ".py",
   "mimetype": "text/x-python",
   "name": "python",
   "nbconvert_exporter": "python",
   "pygments_lexer": "ipython3",
   "version": "3.7.1"
  }
 },
 "nbformat": 4,
 "nbformat_minor": 2
}
