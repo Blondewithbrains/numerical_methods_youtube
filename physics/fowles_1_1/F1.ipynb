{
 "cells": [
  {
   "cell_type": "markdown",
   "metadata": {},
   "source": [
    "# Problem Statement\n",
    "A particle is moving with uniform circular motion in the xy-plane with an angular speed 0f 0.377 rad/s. along the inside of a long, perfectly smooth, cylinder whose axis is along the z direction.  Suddenly the particle undergoes an acceleration given by,\n",
    "$$\\frac{d^2z}{dt^2} = \\ddot{z_0}e^{-z},$$\n",
    "where $\\ddot{z_0} = 3 \\mbox{m/s}^2$ and z is given in meters.  Assume that $\\left.\\frac{dz}{dt}\\right|_{t = 0} = 0$.  How  How far down the cylinder does the particle move in the time it takes to make one revolution?\n",
    "\n",
    "## Solution method 1\n",
    "* Solve for the time it takes to make one revolution.\n",
    "* Use that time as the final time of our integration\n",
    "* Solving second order differential equation from t = 0 to our time above\n",
    "\n",
    "## Solution Method 2\n",
    "* Pretend we can’t get the integration time\n",
    "* Integrate angular  velocity as part of our differential equation system \\omega = \\frac{d\\theta}{dt}$\n",
    "* Use event detection (built-in rot finding) to stop integration at the proper time\n"
   ]
  },
  {
   "cell_type": "code",
   "execution_count": 7,
   "metadata": {},
   "outputs": [],
   "source": [
    "#  Numpy and ODE silver imports\n",
    "import numpy as np\n",
    "from scipy.integrate import solve_ivp\n",
    "\n",
    "#  Plotting libraries\n",
    "import  matplotlib.pyplot as plt\n",
    "%matplotlib inline"
   ]
  },
  {
   "cell_type": "code",
   "execution_count": 8,
   "metadata": {},
   "outputs": [
    {
     "name": "stdout",
     "output_type": "stream",
     "text": [
      "16.666274024349036\n"
     ]
    }
   ],
   "source": [
    "#  Calculate the time it takes to make one revoultion\n",
    "omega = 0.377\n",
    "t_f = 2 * np.pi / omega\n",
    "\n",
    "\n",
    "#  Print the time to make sure things make sunse\n",
    "print(t_f)\n",
    "\n",
    "#  Create a vector that contains the times the solve will return values for.\n",
    "t_eval = np.linspace(0, t_f)"
   ]
  },
  {
   "cell_type": "code",
   "execution_count": 9,
   "metadata": {},
   "outputs": [],
   "source": [
    "\n",
    "# Define our differential equation system\n",
    "def equation_system(t, x):\n",
    "# x[0] = position\n",
    "# x[1] = velocity\n",
    "    A0 = 3\n",
    "    xprime = np.zeros(2)\n",
    "    \n",
    "    # x[0] = z\n",
    "    # x[1] = v_z\n",
    "    xprime[0] = x[1]\n",
    "    xprime[1] = A0 * np.exp( -x[0] )\n",
    "    \n",
    "    return xprime"
   ]
  },
  {
   "cell_type": "code",
   "execution_count": 10,
   "metadata": {},
   "outputs": [
    {
     "name": "stdout",
     "output_type": "stream",
     "text": [
      "Time to complete one revolution =  16.666274024349036\n",
      "Distance traveld in the z direction =  39.42968395577814\n"
     ]
    }
   ],
   "source": [
    "#  The solve takes the tspan vairable (range of integration times) as well as the initial conditions as arguements\n",
    "tspan = (0, t_f)\n",
    "z0 = (0, 0)\n",
    "\n",
    "#  Call the Solver and print the results\n",
    "sol = solve_ivp(equation_system, tspan, z0, t_eval = t_eval)\n",
    "print('Time to complete one revolution = ', t_f)\n",
    "print('Distance traveld in the z direction = ', sol.y[0,-1])\n",
    "\n",
    "#  We can plot the position and velocity just to make sure our answers are reasonable\n",
    "#z = sol.y[0,:]\n",
    "#v_z = sol.y[1,:]\n",
    "#plt.plot(sol.t, v_z, 'k')"
   ]
  },
  {
   "cell_type": "markdown",
   "metadata": {},
   "source": [
    "### Event detection\n",
    "Create a function of the form:\n",
    "    g(t, x) = 0\n",
    "    \n",
    "We can add a property to tell the solve to terminate when an event is detected\n",
    "g.terminal = True"
   ]
  },
  {
   "cell_type": "code",
   "execution_count": 11,
   "metadata": {},
   "outputs": [],
   "source": [
    "#  Define a new system of ODEs\n",
    "# x[0] =  Position (z direction)\n",
    "# x[1] = velocity (z direction)\n",
    "# x[2] = angular position\n",
    "def equation_system2(t, x):\n",
    "    A0 = 3\n",
    "    xprime = np.zeros(3)\n",
    "    xprime[0] = x[1]\n",
    "    xprime[1] = A0 * np.exp( -x[0] )\n",
    "    xprime[2] = omega\n",
    "    \n",
    "    return xprime\n",
    "\n",
    "#  Event detection.  Terminate integration when angle = 2 * pi\n",
    "def cutoff(t, x):\n",
    "    return x[2] - 2* np.pi\n",
    "\n",
    "cutoff.terminal = True"
   ]
  },
  {
   "cell_type": "code",
   "execution_count": 12,
   "metadata": {},
   "outputs": [
    {
     "name": "stdout",
     "output_type": "stream",
     "text": [
      "39.408106793777065\n"
     ]
    }
   ],
   "source": [
    "#  Create evalulation times, tspan, and initial conditions\n",
    "t_eval = np.linspace(0, 100, 2000)\n",
    "tspan = (0, 100)\n",
    "z0 = (0, 0, 0)\n",
    "\n",
    "#  Call solver and print results\n",
    "sol = solve_ivp(equation_system2, tspan, z0, t_eval = t_eval, events = cutoff)\n",
    "print(sol.y[0,-1])"
   ]
  },
  {
   "cell_type": "code",
   "execution_count": null,
   "metadata": {},
   "outputs": [],
   "source": []
  }
 ],
 "metadata": {
  "kernelspec": {
   "display_name": "Python 3",
   "language": "python",
   "name": "python3"
  },
  "language_info": {
   "codemirror_mode": {
    "name": "ipython",
    "version": 3
   },
   "file_extension": ".py",
   "mimetype": "text/x-python",
   "name": "python",
   "nbconvert_exporter": "python",
   "pygments_lexer": "ipython3",
   "version": "3.7.1"
  }
 },
 "nbformat": 4,
 "nbformat_minor": 2
}
