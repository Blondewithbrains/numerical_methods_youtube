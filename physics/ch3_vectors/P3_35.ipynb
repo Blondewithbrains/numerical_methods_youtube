{
 "cells": [
  {
   "cell_type": "markdown",
   "metadata": {},
   "source": [
    "# Simple Vector Manipulation\n",
    "## Problem 1\n",
    "A man flies from Washington DC to Manila.  Calculate the magnitude of the displacement vector if Wasnigton DC is located at 39$^\\circ$ N $\\times$ 77$^\\circ$ W and Manila at 15$^\\circ$ N $\\times$ 121$^\\circ$ E.\n",
    "\n",
    "![Vector_Diagram](vector_diagram.png)\n",
    "\n",
    "### Procedure\n",
    "1.  Convert longitude and latitude to  spherical coordinates.\n",
    "2.  Convert to cartesian coordinates.\n",
    "3.  Directly use Numpy’s vector manipulation abilities.\n",
    "\n",
    "The $xy$ plane will cut the earth at the equator.\n",
    "The $yz$ plane passes through the prime meridian.\n",
    "\n",
    "The conversion to cartesian coordinates is given by,\n",
    "\\begin{align*}\n",
    "x = & R \\sin(\\phi)\\cos(\\theta) \\\\\n",
    "y = & R \\sin(\\phi)\\sin(\\theta) \\\\\n",
    "z = & R\\cos(\\phi)\n",
    "\\end{align*}\n",
    "\n",
    "<BR>\n",
    "<img src=\"Spherical.png\" alt=\"Spherical\" width=\"45%\"/>\n"
   ]
  },
  {
   "cell_type": "code",
   "execution_count": 12,
   "metadata": {},
   "outputs": [
    {
     "name": "stdout",
     "output_type": "stream",
     "text": [
      "Displacement =  11219.322697254165\n"
     ]
    }
   ],
   "source": [
    "import numpy as np\n",
    "from numpy import sin, cos\n",
    "\n",
    "R = 6.37e3  # Radius of Earth in km\n",
    "\n",
    "#  Washington DC = 39N, 77W\n",
    "theta_DC = 360 - 77\n",
    "phi_DC = 90 - 39\n",
    "\n",
    "DC_spherical = np.array( [ R, np.radians(theta_DC), np.radians(phi_DC)] )\n",
    "DC_cart = np.array( [ DC_spherical[0] * sin(DC_spherical[2]) * cos(DC_spherical[1]),\n",
    "                     DC_spherical[0] * sin(DC_spherical[2]) * sin(DC_spherical[1]),\n",
    "                     DC_spherical[0] * cos(DC_spherical[2]) ] )\n",
    "\n",
    "#  Manilla = 15N, 121E\n",
    "theta_M = 121\n",
    "phi_M = 90 - 15\n",
    "\n",
    "M_spherical = np.array( [ R, np.radians(theta_M), np.radians(phi_M)] )\n",
    "M_cart = np.array( [ M_spherical[0] * sin(M_spherical[2]) * cos(M_spherical[1]),\n",
    "            M_spherical[0] * sin(M_spherical[2]) * sin(M_spherical[1]),\n",
    "            M_spherical[0] * cos(M_spherical[2]) ] )\n",
    "\n",
    "D = M_cart - DC_cart\n",
    "print('Displacement = ', np.linalg.norm(D))"
   ]
  },
  {
   "cell_type": "markdown",
   "metadata": {},
   "source": [
    "## Problem 2\n",
    "\n",
    "Vector $\\vec{a}$ lies in the $yz$ plane 63 degrees from the +$y$ axis a positive z component and a magnitude of 3.2 units.  Vector $\\vec{b}$ lies in the $xz$ plane 48 degrees from the +$x$ axis and has a magnitude of 1.4 units.\n",
    "\n",
    "1. Find $\\vec{a} \\cdot \\vec{b}$.\n",
    "2. FInd $\\vec{a} \\times \\vec{b}$.\n",
    "3. Find the angle between $\\vec{a}$ and $\\vec{b}$."
   ]
  },
  {
   "cell_type": "code",
   "execution_count": 17,
   "metadata": {},
   "outputs": [
    {
     "name": "stdout",
     "output_type": "stream",
     "text": [
      "Dot product =  2.9664180578689856\n",
      "Cross product =  [ 1.51146549  2.67097482 -1.36092964]\n",
      "Angle =  48.536187076278104\n"
     ]
    }
   ],
   "source": [
    "#  Create vector A\n",
    "#  Lies in yz plane\n",
    "#  Angle from y axis = 63 degrees\n",
    "#  Has positive z component\n",
    "#  Magnitude of 3.2\n",
    "\n",
    "alpha = np.radians(63)\n",
    "a = np.array( [0, 3.2 * np.cos(alpha), 3.2 * np.sin(alpha)] )\n",
    "\n",
    "#  Create vector B\n",
    "#  Lies in ixz plane\n",
    "#  Angle from x axis  = 48\n",
    "#  as positive z compnemnt\n",
    "#  Has a magnitdute of 1.4\n",
    "\n",
    "beta = np.radians(48)\n",
    "b = np.array( [1.4 * np.cos(beta), 0, 1.4 * np.sin(beta)] )\n",
    "\n",
    "#  np.dot and np.cross cumpute the dot and cross products, respectively.\n",
    "print('Dot product = ', np.dot(a, b))\n",
    "print('Cross product = ', np.cross(a, b))\n",
    "\n",
    "#  Recall the dot(a, b) = a * b * cos(theta) where theta is the angle between the two vectors.\n",
    "angle = np.arccos( np.dot(a, b) / (1.4 * 3.2))\n",
    "print('Angle = ', np.rad2deg(angle))"
   ]
  },
  {
   "cell_type": "code",
   "execution_count": null,
   "metadata": {},
   "outputs": [],
   "source": []
  }
 ],
 "metadata": {
  "kernelspec": {
   "display_name": "Python 3",
   "language": "python",
   "name": "python3"
  },
  "language_info": {
   "codemirror_mode": {
    "name": "ipython",
    "version": 3
   },
   "file_extension": ".py",
   "mimetype": "text/x-python",
   "name": "python",
   "nbconvert_exporter": "python",
   "pygments_lexer": "ipython3",
   "version": "3.7.1"
  }
 },
 "nbformat": 4,
 "nbformat_minor": 2
}
