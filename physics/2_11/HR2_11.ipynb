{
 "cells": [
  {
   "cell_type": "markdown",
   "metadata": {},
   "source": [
    "# Problem\n",
    "## Part 1\n",
    "The position of an object moving in a straight line is given by,\n",
    "$$x = 3t - 4t^2 + t^3$$\n",
    "where $t$ is in seconds and $x$ is in meters\n",
    "\n",
    "a)  What is the position of the object at $t = $1, 2, 3 and 4 $s$?<br>\n",
    "b)  What is the object's displacement between $t = 0$ and $t = 4$ seconds?<br>\n",
    "c)  What is the average velocity of the object between $t = 2$ and $t = 4s$?"
   ]
  },
  {
   "cell_type": "markdown",
   "metadata": {},
   "source": [
    "##  Part 2\n",
    "Next, we’ll look at a similar problem, but this time, we have a set of sampled data (based on the original position equation) that might mimic real-world sensor data.  We are then going to answer the same questions as in the first part.  See the figure below for the data set we'll be using.\n",
    "![alt text](sampled_data.png \"Title\")"
   ]
  },
  {
   "cell_type": "code",
   "execution_count": 3,
   "metadata": {},
   "outputs": [],
   "source": [
    "#  Import needed packages\n",
    "import numpy as np\n",
    "import matplotlib.pyplot as plt\n",
    "from scipy.interpolate import CubicSpline\n",
    "\n",
    "%matplotlib inline\n"
   ]
  },
  {
   "cell_type": "code",
   "execution_count": 4,
   "metadata": {},
   "outputs": [],
   "source": [
    "#  Define needed functions\n",
    "\n",
    "#  This function is for the position of the object as noted in the problem statement above\n",
    "def position(t):\n",
    "    return 3 * t - 4 *  np.power(t, 2) + np.power(t, 3)\n",
    "\n",
    "#  Exact velocity manually taking the first derivative\n",
    "def exact_derivative(t):\n",
    "    return 3 - 8 * t + 3 * np.power(t, 2)\n",
    "\n",
    "#  Numerical estimation of the derivative using a central difference formula\n",
    "def derivative(t):\n",
    "    epsilon = 1e-8\n",
    "    return( (position(t + epsilon) - position(t - epsilon)) / (2 * epsilon))"
   ]
  },
  {
   "cell_type": "code",
   "execution_count": 5,
   "metadata": {},
   "outputs": [
    {
     "name": "stdout",
     "output_type": "stream",
     "text": [
      "Position =  0\n",
      "Position =  -2\n",
      "Position =  0\n",
      "Position =  12\n",
      "Displacement =  12\n"
     ]
    }
   ],
   "source": [
    "#  Part a\n",
    "\n",
    "#  Print out the positions at the requested times\n",
    "print('Position = ', position(1))\n",
    "print('Position = ', position(2))\n",
    "print('Position = ', position(3))\n",
    "print('Position = ', position(4))\n",
    "\n",
    "# Part b\n",
    "#  Print the displacement between t = 0 and t = 4 seconds.\n",
    "print('Displacement = ', position(4) - position(0))"
   ]
  },
  {
   "cell_type": "code",
   "execution_count": 6,
   "metadata": {},
   "outputs": [
    {
     "data": {
      "text/plain": [
       "[<matplotlib.lines.Line2D at 0x19fbba66d30>]"
      ]
     },
     "execution_count": 6,
     "metadata": {},
     "output_type": "execute_result"
    },
    {
     "data": {
      "image/png": "[encoded data removed]",
      "text/plain": [
       "<Figure size 432x288 with 1 Axes>"
      ]
     },
     "metadata": {
      "needs_background": "light"
     },
     "output_type": "display_data"
    }
   ],
   "source": [
    "#  Plot the exact and numerical approx of the derivative\n",
    "\n",
    "# The function linspace creates a series of linearly distributed points.  We the calculate the exact derivative and its approximation\n",
    "t = np.linspace(0, 5)\n",
    "v_exact = exact_derivative(t)\n",
    "v = derivative(t)\n",
    "\n",
    "#  Overlay the two to see how well our approximation works\n",
    "plt.plot(t, v_exact, 'k')\n",
    "plt.plot(t, v, 'b.')"
   ]
  },
  {
   "cell_type": "markdown",
   "metadata": {},
   "source": [
    "## Average Velocty\n",
    "$$\\bar{V} = \\int_{t_1}^{t_2} \\frac{v(t)}{t_2 - t_1} dt$$\n",
    "\n",
    "Numpy has a built-in function *trapz* which estimates an integral via the trapezoidal rule."
   ]
  },
  {
   "cell_type": "code",
   "execution_count": 7,
   "metadata": {},
   "outputs": [
    {
     "name": "stdout",
     "output_type": "stream",
     "text": [
      "Average velocity =  7.0008329741065625\n"
     ]
    }
   ],
   "source": [
    "# Part C\n",
    "t_int = np.linspace(2, 4)\n",
    "v_int = derivative(t_int)\n",
    "\n",
    "print('Average velocity = ', np.trapz(v_int, t_int) / 2.0)"
   ]
  },
  {
   "cell_type": "code",
   "execution_count": 8,
   "metadata": {},
   "outputs": [
    {
     "name": "stdout",
     "output_type": "stream",
     "text": [
      "Position at t = 1:   2.968617546065828e-17\n",
      "Position at t = 2:   -2.0000000000000036\n",
      "Position at t = 3:   -1.0993322138025396e-14\n",
      "Position at t = 4:   11.999999999999986\n",
      "Displacement =  11.999999999999986\n",
      "Average velocity =  7.000832986255923\n"
     ]
    }
   ],
   "source": [
    "# Part 2\n",
    "\n",
    "#  Create a bunch of randomly sampled floats between 0 and 5 to use for our sampled time values\n",
    "#  The we calculate the positions at those times\n",
    "np.random.seed(1)\n",
    "t_sampled = 5 * np.random.rand(100)\n",
    "t_sampled = np.sort(t_sampled)\n",
    "x_sampled = position(t_sampled)\n",
    "\n",
    "#  Create spline object\n",
    "cs = CubicSpline(t_sampled, x_sampled)\n",
    "t_int = np.linspace(0, 5)\n",
    "x_int = cs(t_int)\n",
    "\n",
    "# Part a\n",
    "print('Position at t = 1:  ', cs(1))\n",
    "print('Position at t = 2:  ', cs(2))\n",
    "print('Position at t = 3:  ', cs(3))\n",
    "print('Position at t = 4:  ', cs(4))\n",
    "\n",
    "# Part b\n",
    "print('Displacement = ', cs(4) - cs(0))\n",
    "\n",
    "# Part c\n",
    "#  The spline function can return its derivative\n",
    "V_cs = cs.derivative()\n",
    "\n",
    "print('Average velocity = ', np.trapz( V_cs(np.linspace(2,4)), np.linspace(2,4)) / 2.0)\n",
    "\n",
    "#  Just plot the sampled positions and times\n",
    "#plt.plot(t_sampled, x_sampled, '.')\n",
    "#plt.plot(t_int, x_int, 'k')"
   ]
  },
  {
   "cell_type": "code",
   "execution_count": null,
   "metadata": {},
   "outputs": [],
   "source": []
  }
 ],
 "metadata": {
  "kernelspec": {
   "display_name": "Python 3",
   "language": "python",
   "name": "python3"
  },
  "language_info": {
   "codemirror_mode": {
    "name": "ipython",
    "version": 3
   },
   "file_extension": ".py",
   "mimetype": "text/x-python",
   "name": "python",
   "nbconvert_exporter": "python",
   "pygments_lexer": "ipython3",
   "version": "3.7.1"
  }
 },
 "nbformat": 4,
 "nbformat_minor": 2
}
