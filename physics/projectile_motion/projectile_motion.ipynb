{
 "cells": [
  {
   "cell_type": "markdown",
   "metadata": {},
   "source": [
    "# Projectile Motion\n",
    "## Differential Equations and Optimization\n",
    "\n",
    "A baseball player hits a ball (with a mass of 0.145 kg) that is initially one meter above the ground.  The ball leaves the bat with a speed of 45 m/s at an angle of 30 degrees relative to the horizontal.   Assuming no air resistance, \n",
    "\n",
    "1. What is the horizontal distance the ball travels before hitting the ground?\n",
    "2. If the batter has control of the initial angle, what is the optimal angle to maximize the horizontal distance before the ball hits the ground?\n",
    "\n",
    "Recalculate the above assuming air drag of the form $F_\\mbox{drag} = -c V|V|$ where $c = 0.001$ in SI units.\n"
   ]
  },
  {
   "cell_type": "markdown",
   "metadata": {},
   "source": [
    "### Procedure - No air resistance\n",
    "\n",
    "1. Set up a system of differential equations with event detection enabled.\n",
    "2. Solve the system numerically\n",
    "\n",
    "3. Write a function to calculate the distance traveled as a function of angle.\n",
    "4. Use Scipy’s optimization package to maximize the distance\n",
    "\n",
    "Since this part can be done analytically, we will use sympy to check our work.\n",
    "\n",
    "### Procedure - With air resistance\n",
    "\n",
    "Same as steps 1-4 above.  This time there is no analytical solution.\n",
    "\n"
   ]
  },
  {
   "cell_type": "code",
   "execution_count": 1,
   "metadata": {},
   "outputs": [],
   "source": [
    "import numpy as np\n",
    "\n",
    "from scipy.integrate import solve_ivp\n",
    "from scipy.optimize import minimize\n",
    "\n",
    "from sympy import *\n",
    "from IPython.display import display, Latex\n",
    "\n",
    "import matplotlib.pyplot as plt\n",
    "\n",
    "%matplotlib inline"
   ]
  },
  {
   "cell_type": "markdown",
   "metadata": {},
   "source": [
    "### Equations of Motion\n",
    "\\begin{array}{cll}\n",
    "\\frac{dx}{dt} & = & V_x \\\\\n",
    "m\\frac{dV_x}{dt} & = & 0 \\\\\n",
    "\\frac{dy}{dt} & = & V_y \\\\\n",
    "m\\frac{dV_y}{dt} & = & -mg\n",
    "\\end{array}\n",
    "\n",
    "Initial Conditions:\n",
    "\\begin{array}{lll}\n",
    "x(0) & = & 0 \\\\\n",
    "V_x(0) & = & V\\cos(\\theta) \\\\\n",
    "y(0) & = & 1\\mbox{m} \\\\\n",
    "V_y(0) & = & V\\sin(\\theta)\n",
    "\\end{array}\n",
    "\n",
    "<img src=\"initial_velocity.png\" height=\"60%\"  width=\"60%\">\n"
   ]
  },
  {
   "cell_type": "code",
   "execution_count": 2,
   "metadata": {},
   "outputs": [],
   "source": [
    "#  Define our susytem of ODEs.  Must have the form df/dt = f(t,X)\n",
    "def no_drag(t, X):\n",
    "    \n",
    "    g = 9.8\n",
    "    \n",
    "    Xprime = np.zeros(4)\n",
    "    \n",
    "    #  Vector format\n",
    "    #   x[0] = x position\n",
    "    #   x[1] = x velocity\n",
    "    #   x[2] = y position\n",
    "    #   x[3] = y velocity\n",
    "    \n",
    "    Xprime[0] = X[1]\n",
    "    Xprime[1] = 0\n",
    "    Xprime[2] = X[3]\n",
    "    Xprime[3] = -g\n",
    "    \n",
    "    return Xprime\n",
    "\n",
    "#  Function for event detection.  Terminate integration when y crosses zero moving from positive to negative.  y is in the variable X[2]\n",
    "def events(t, X):\n",
    "    return X[2]\n",
    "\n",
    "events.terminal = True\n",
    "events.direction = -1\n",
    "\n",
    "# Function to solve our differential equations and return the value for the total x distance traveled.\n",
    "def calculate_range_no_drag(theta):\n",
    "    #  Angle needs to be in radians\n",
    "    theta = np.radians(theta[0])\n",
    "    \n",
    "    #  Initial velcoity in m/s\n",
    "    V0 = 45\n",
    "    \n",
    "    #  We use a while loop breaking out of it if we detect an event\n",
    "    #  These kkep track of total iterations and provides us a means to break out if max counts is exceeded.\n",
    "    count = 1\n",
    "    max_count = 100\n",
    "    \n",
    "    #  Define the number of points to be returned and the iintegration time\n",
    "    N = 1000\n",
    "    tf = 20\n",
    "    \n",
    "    while count <= max_count:\n",
    "        count = count + 1\n",
    "    \n",
    "        #  Define time spane and points to return\n",
    "        tspan = (0, tf)\n",
    "        t_eval = np.linspace(tspan[0], tspan[1], N)\n",
    "    \n",
    "        #  Initial conditions\n",
    "        X0 = np.array( [0, V0 * np.cos(theta), 1, V0 * sin(theta)])\n",
    "\n",
    "        #  Solve the system\n",
    "        sol = solve_ivp(no_drag, tspan, X0, t_eval = t_eval, events = events)\n",
    "        \n",
    "        #  Check to make sure event is detected.  If not, restart with a larger integration time\n",
    "        if sol.t_events[0].size > 0:\n",
    "            R = sol.y[0, -1]\n",
    "            #print('Event exists ', sol.t_events)\n",
    "            break;\n",
    "        else:\n",
    "            #print('No events detected.')\n",
    "            tf = tf + 0.1 * tf\n",
    "            N = N + 0.1 * N\n",
    "            R = []\n",
    "            \n",
    "            \n",
    "    return R\n",
    "\n",
    "#  Scipy's routines find minimums, not maximums.  Our objective function takes the negative value so we can minimze the function\n",
    "def objective(theta):\n",
    "    return -calculate_range_no_drag(theta)"
   ]
  },
  {
   "cell_type": "code",
   "execution_count": 3,
   "metadata": {},
   "outputs": [
    {
     "name": "stdout",
     "output_type": "stream",
     "text": [
      "180.22690835513987\n",
      " final_simplex: (array([[44.83528137],\n",
      "       [44.83530045]]), array([-207.63011637, -207.63004764]))\n",
      "           fun: -207.63011636557692\n",
      "       message: 'Optimization terminated successfully.'\n",
      "          nfev: 61\n",
      "           nit: 30\n",
      "        status: 0\n",
      "       success: True\n",
      "             x: array([44.83528137])\n"
     ]
    },
    {
     "name": "stderr",
     "output_type": "stream",
     "text": [
      "C:\\Users\\moone\\Anaconda3\\lib\\site-packages\\scipy\\optimize\\_minimize.py:516: RuntimeWarning: Method Nelder-Mead cannot handle constraints nor bounds.\n",
      "  RuntimeWarning)\n"
     ]
    }
   ],
   "source": [
    "#  Answer to 1.1\n",
    "print( calculate_range_no_drag((30,)))\n",
    "\n",
    "bounds = ( (0.1, 89.9), )\n",
    "results = minimize(objective, (25,), bounds = bounds, method = 'Nelder-Mead')\n",
    "print(results)"
   ]
  },
  {
   "cell_type": "markdown",
   "metadata": {},
   "source": [
    "The differential equations above can be solved analytically.  If the ball travels horizontally a distance $R$ in time, $t$, we can write,\n",
    "\\begin{array}{llll}\n",
    "x(t) & = & R = & V_0\\cos(\\theta)t  \\\\\n",
    "y(t) & = & 0 = & y_0 + V_0\\sin(\\theta)t - \\frac{1}{2}gt^2\n",
    "\\end{array}\n",
    "We can solve the top equation for $t$ and plug it into the equation for $y$.  This gives,\n",
    "$$\n",
    "y_0 + R \\tan(\\theta) - \\frac{1}{2}\\frac{g}{V_0^2\\cos^2(\\theta)}R^2 = 0.\n",
    "$$\n",
    "We have a quadratic equation in $R$.  Once we solve for $R$, we can differentiate with respect to $\\theta$ to find the angle which maximizes $R$."
   ]
  },
  {
   "cell_type": "code",
   "execution_count": 4,
   "metadata": {},
   "outputs": [
    {
     "data": {
      "text/latex": [
       "$\\displaystyle - \\frac{\\left(\\sqrt{- 4 A y_{0} + \\sin^{2}{\\left(\\theta \\right)}} + \\sin{\\left(\\theta \\right)}\\right) \\cos{\\left(\\theta \\right)}}{2 A}$"
      ],
      "text/plain": [
       "-(sqrt(-4*A*y0 + sin(theta)**2) + sin(theta))*cos(theta)/(2*A)"
      ]
     },
     "metadata": {},
     "output_type": "display_data"
    },
    {
     "name": "stdout",
     "output_type": "stream",
     "text": [
      "180.664729951254\n",
      "180.22690835513987\n"
     ]
    }
   ],
   "source": [
    "#  Define constant for convenience\n",
    "a = -9.8 / 2 / 45**2\n",
    "\n",
    "#  Define our syumbols  and expression\n",
    "y0, A, theta, R = symbols('y0, A, theta, R')\n",
    "expr = y0 + + tan(theta) * R + A * R**2 / cos(theta)**2\n",
    "\n",
    "#  Solve for range\n",
    "R = solve(expr, R)\n",
    "\n",
    "#  There are two answers.  Our happens to be in the second entry\n",
    "R = R[1]\n",
    "display(R)\n",
    "\n",
    "#  Subsistute in our values and compare with numerical answer\n",
    "print( R.subs( [(y0, 1), (A, a), (theta, np.radians(30))]) )\n",
    "print( calculate_range_no_drag( (30,)) )"
   ]
  },
  {
   "cell_type": "code",
   "execution_count": 5,
   "metadata": {},
   "outputs": [
    {
     "data": {
      "text/latex": [
       "$\\displaystyle \\frac{\\left(\\sqrt{- 4 A y_{0} + \\sin^{2}{\\left(\\theta \\right)}} + \\sin{\\left(\\theta \\right)}\\right) \\sin{\\left(\\theta \\right)}}{2 A} - \\frac{\\left(\\cos{\\left(\\theta \\right)} + \\frac{\\sin{\\left(\\theta \\right)} \\cos{\\left(\\theta \\right)}}{\\sqrt{- 4 A y_{0} + \\sin^{2}{\\left(\\theta \\right)}}}\\right) \\cos{\\left(\\theta \\right)}}{2 A}$"
      ],
      "text/plain": [
       "(sqrt(-4*A*y0 + sin(theta)**2) + sin(theta))*sin(theta)/(2*A) - (cos(theta) + sin(theta)*cos(theta)/sqrt(-4*A*y0 + sin(theta)**2))*cos(theta)/(2*A)"
      ]
     },
     "metadata": {},
     "output_type": "display_data"
    },
    {
     "name": "stdout",
     "output_type": "stream",
     "text": [
      "44.8620255528842\n"
     ]
    }
   ],
   "source": [
    "#  Calculate the derivative to find the max\n",
    "dR = diff(R, theta)\n",
    "display(dR)\n",
    "dR = dR.subs( [(y0, 1), (A, a)])\n",
    "\n",
    "#  Solve for max and print the result\n",
    "ans = solve(dR, theta)\n",
    "ans = ans[0]\n",
    "print(ans * 180 / np.pi)"
   ]
  },
  {
   "cell_type": "code",
   "execution_count": 6,
   "metadata": {},
   "outputs": [],
   "source": [
    "#  Clear out symbolic variables just so there are no potential conflicts\n",
    "del(y0); del(A); del(theta); del(R); del(expr)"
   ]
  },
  {
   "cell_type": "markdown",
   "metadata": {},
   "source": [
    "## Part 2\n",
    "Include the drag force given by,\n",
    "$$\n",
    "F_{\\mbox{drag}} = -cv|v|,\n",
    "$$\n",
    "where $c$ = 0.001.\n",
    "The equations of motion are now,\n",
    "\\begin{array}{cll}\n",
    "\\frac{dx}{dt} & = & V_x \\\\\n",
    "m\\frac{dV_x}{dt} & = & -cv_x|v_x| \\\\\n",
    "\\frac{dy}{dt} & = & V_y \\\\\n",
    "m\\frac{dV_y}{dt} & = & -mg - cv_y|v_y|\n",
    "\\end{array}.\n",
    "The initial conditions are the same as inthe previous part.\n"
   ]
  },
  {
   "cell_type": "code",
   "execution_count": 7,
   "metadata": {},
   "outputs": [],
   "source": [
    "def drag(t, X):\n",
    "    Xprime = np.zeros(4)\n",
    "    \n",
    "    #  The mass is needed for the nonlinear p[roblem]\n",
    "    m = 0.145\n",
    "    c = 0.001\n",
    "    \n",
    "    #  For simplicity, we define the ddrag forces here.\n",
    "    F_x = -c * X[1] * np.abs(X[1])\n",
    "    F_y = -c * X[3] * np.abs(X[3])\n",
    "    \n",
    "    Xprime[0] = X[1]\n",
    "    Xprime[1] = F_x / m\n",
    "    Xprime[2] = X[3]\n",
    "    Xprime[3] = -9.8 + F_y / m\n",
    "        \n",
    "    return Xprime\n",
    "\n",
    "#  Range function for the drag case\n",
    "def calculate_range_drag(theta):\n",
    "    theta = np.radians(theta[0])\n",
    "    \n",
    "    V0 = 45\n",
    "    \n",
    "    count = 1\n",
    "    max_count = 100\n",
    "    \n",
    "    N = 1000\n",
    "    tf = 5\n",
    "    \n",
    "    while count <= max_count:\n",
    "        count = count + 1\n",
    "    \n",
    "        tspan = (0, tf)\n",
    "        t_eval = np.linspace(tspan[0], tspan[1], N)\n",
    "    \n",
    "        X0 = np.array( [0, V0 * np.cos(theta), 1, V0 * sin(theta)])\n",
    "\n",
    "        sol = solve_ivp(drag, tspan, X0, t_eval = t_eval, events = events)\n",
    "        if sol.t_events[0].size > 0:\n",
    "            R = sol.y[0, -1]\n",
    "            #print('Event exists ', sol.t_events)\n",
    "            break;\n",
    "        else:\n",
    "            #print('No events detected.')\n",
    "            tf = tf + 0.1 * tf\n",
    "            N = N + 0.1 * N\n",
    "            \n",
    "        \n",
    "    \n",
    "    return R\n",
    "\n",
    "def objective_drag(theta):\n",
    "    return -calculate_range_drag(theta)"
   ]
  },
  {
   "cell_type": "code",
   "execution_count": 8,
   "metadata": {},
   "outputs": [
    {
     "name": "stdout",
     "output_type": "stream",
     "text": [
      " final_simplex: (array([[41.24008179],\n",
      "       [41.24015808]]), array([-118.02300058, -118.02290623]))\n",
      "           fun: -118.02300058102726\n",
      "       message: 'Optimization terminated successfully.'\n",
      "          nfev: 50\n",
      "           nit: 23\n",
      "        status: 0\n",
      "       success: True\n",
      "             x: array([41.24008179])\n"
     ]
    }
   ],
   "source": [
    "#  Optimize angle\n",
    "results = minimize(objective_drag, (25,), bounds = bounds, method = 'Nelder-Mead')\n",
    "print(results)"
   ]
  },
  {
   "cell_type": "code",
   "execution_count": null,
   "metadata": {},
   "outputs": [],
   "source": []
  }
 ],
 "metadata": {
  "kernelspec": {
   "display_name": "Python 3",
   "language": "python",
   "name": "python3"
  },
  "language_info": {
   "codemirror_mode": {
    "name": "ipython",
    "version": 3
   },
   "file_extension": ".py",
   "mimetype": "text/x-python",
   "name": "python",
   "nbconvert_exporter": "python",
   "pygments_lexer": "ipython3",
   "version": "3.7.1"
  }
 },
 "nbformat": 4,
 "nbformat_minor": 2
}
