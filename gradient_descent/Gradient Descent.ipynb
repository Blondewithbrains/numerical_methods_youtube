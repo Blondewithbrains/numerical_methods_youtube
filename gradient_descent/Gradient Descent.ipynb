{
 "cells": [
  {
   "cell_type": "code",
   "execution_count": 1,
   "metadata": {},
   "outputs": [],
   "source": [
    "import numpy as np\n",
    "import matplotlib.pyplot as plt\n",
    "from scipy.optimize import minimize\n",
    "\n",
    "%matplotlib inline"
   ]
  },
  {
   "cell_type": "markdown",
   "metadata": {},
   "source": [
    "Consider the equation: \n",
    "$$y = 2x^2 + 5x + 2 $$\n",
    "\n",
    "We define the function and its derivative below."
   ]
  },
  {
   "cell_type": "code",
   "execution_count": 2,
   "metadata": {},
   "outputs": [],
   "source": [
    "def tangent_line(m, x0, y0, length = 1):\n",
    "#  Helper function for drawning tangent linesdef tangent_line(m, x0, y0, length = 1):\n",
    "    x = np.linspace(x0 - length / 2, x0 + length / 2)\n",
    "    y = m * (x - x0) + y0\n",
    "    return x, y\n",
    "\n",
    "#  Our function of interest, a quadratic equation\n",
    "def quadratic(x, args = None):\n",
    "    return 2 * np.power(x, 2) + 5*x + 2\n",
    "\n",
    "#  Our function's derivative\n",
    "def quadratic_derivative(x, args = []):\n",
    "    return 4 * x + 5"
   ]
  },
  {
   "cell_type": "code",
   "execution_count": 3,
   "metadata": {},
   "outputs": [
    {
     "ename": "NameError",
     "evalue": "name 'derivative' is not defined",
     "output_type": "error",
     "traceback": [
      "\u001b[1;31m---------------------------------------------------------------------------\u001b[0m",
      "\u001b[1;31mNameError\u001b[0m                                 Traceback (most recent call last)",
      "\u001b[1;32m<ipython-input-3-321c392b39c5>\u001b[0m in \u001b[0;36m<module>\u001b[1;34m()\u001b[0m\n\u001b[0;32m      9\u001b[0m \u001b[1;31m#  Plot the tangent line at our initial guess\u001b[0m\u001b[1;33m\u001b[0m\u001b[1;33m\u001b[0m\u001b[1;33m\u001b[0m\u001b[0m\n\u001b[0;32m     10\u001b[0m \u001b[0mx0\u001b[0m \u001b[1;33m=\u001b[0m \u001b[1;36m4\u001b[0m\u001b[1;33m\u001b[0m\u001b[1;33m\u001b[0m\u001b[0m\n\u001b[1;32m---> 11\u001b[1;33m \u001b[0mslope\u001b[0m \u001b[1;33m=\u001b[0m \u001b[0mderivative\u001b[0m\u001b[1;33m(\u001b[0m\u001b[0mx0\u001b[0m\u001b[1;33m)\u001b[0m\u001b[1;33m\u001b[0m\u001b[1;33m\u001b[0m\u001b[0m\n\u001b[0m\u001b[0;32m     12\u001b[0m \u001b[0mprint\u001b[0m\u001b[1;33m(\u001b[0m\u001b[1;34m'Slope at x = '\u001b[0m\u001b[1;33m,\u001b[0m \u001b[0mx0\u001b[0m\u001b[1;33m,\u001b[0m \u001b[1;34m' is '\u001b[0m\u001b[1;33m,\u001b[0m \u001b[0mslope\u001b[0m\u001b[1;33m)\u001b[0m\u001b[1;33m\u001b[0m\u001b[1;33m\u001b[0m\u001b[0m\n\u001b[0;32m     13\u001b[0m \u001b[0mX\u001b[0m\u001b[1;33m,\u001b[0m \u001b[0mY\u001b[0m \u001b[1;33m=\u001b[0m \u001b[0mtangent_line\u001b[0m\u001b[1;33m(\u001b[0m\u001b[0mslope\u001b[0m\u001b[1;33m,\u001b[0m \u001b[0mx0\u001b[0m\u001b[1;33m,\u001b[0m \u001b[0mquadratic\u001b[0m\u001b[1;33m(\u001b[0m\u001b[0mx0\u001b[0m\u001b[1;33m)\u001b[0m\u001b[1;33m,\u001b[0m \u001b[0mlength\u001b[0m \u001b[1;33m=\u001b[0m \u001b[1;36m3\u001b[0m\u001b[1;33m)\u001b[0m\u001b[1;33m\u001b[0m\u001b[1;33m\u001b[0m\u001b[0m\n",
      "\u001b[1;31mNameError\u001b[0m: name 'derivative' is not defined"
     ]
    },
    {
     "data": {
      "image/png": "[encoded data removed]",
      "text/plain": [
       "<Figure size 432x288 with 1 Axes>"
      ]
     },
     "metadata": {
      "needs_background": "light"
     },
     "output_type": "display_data"
    }
   ],
   "source": [
    "#  Plot the quadratic\n",
    "x = np.linspace(-10, 5)\n",
    "plt.plot(x, quadratic(x), 'k')\n",
    "plt.grid(True)\n",
    "plt.xlabel('x')\n",
    "plt.ylabel('y')\n",
    "#plt.xlim( [-5.5, 6] )\n",
    "\n",
    "#  Plot the tangent line at our initial guess\n",
    "x0 = 4\n",
    "slope = derivative(x0)\n",
    "print('Slope at x = ', x0, ' is ', slope)\n",
    "X, Y = tangent_line(slope, x0, quadratic(x0), length = 3)\n",
    "\n",
    "plt.plot(X, Y, 'b--')"
   ]
  },
  {
   "cell_type": "markdown",
   "metadata": {},
   "source": [
    "###  Update Rule\n",
    "To reiterate, we are walking downhill (the direction of the negative of the derivative (or gradient in multidimensional case).  The equation for updating our guess of the minimum is given by,\n",
    "$$a_{n+1} = a_n - \\gamma \\nabla F(a_n)$$\n",
    "\n",
    "The constant $\\gamma$ Is a scaling fctor which allows some control over the size of the step taken.\n"
   ]
  },
  {
   "cell_type": "code",
   "execution_count": 4,
   "metadata": {},
   "outputs": [],
   "source": [
    "#  Our gradient descent implementation.  For the time being, there is no cutoff criteria other than reaching max count\n",
    "#  fprime is the function which returns the derivative or gradient\n",
    "# x0 is out initial guess for the minimum\n",
    "def gradient_descent(fprime, x0, args = None, gamma = 1e-3, max_iter = 1e5, debug = False, f = None):\n",
    "    count = 0\n",
    "    \n",
    "    if f:\n",
    "        J = np.zeros( (int(max_iter) + 2, ) )\n",
    "        J[count] = f(x0, args)\n",
    "        \n",
    "        if isinstance(x0, float) or isinstance(x0, int):\n",
    "            X = np.zeros( (int(max_iter) + 2, ) )\n",
    "        else:\n",
    "            if x0.ndim == 1 and x0.size > 1:\n",
    "                X = np.zeros( (int(max_iter) + 2, x0.size) )\n",
    "        \n",
    "        X[count] = x0\n",
    "        \n",
    "    while count <= max_iter:\n",
    "        count = count + 1\n",
    "        x0 = x0 - gamma * fprime(x0, args)\n",
    "        if debug == True:\n",
    "            X[count] = x0\n",
    "            J[count] = f(x0, args)\n",
    "    \n",
    "    if debug == True:\n",
    "        return x0, count, X, J\n",
    "    else:\n",
    "        return x0, count\n",
    "    "
   ]
  },
  {
   "cell_type": "code",
   "execution_count": 5,
   "metadata": {},
   "outputs": [
    {
     "name": "stdout",
     "output_type": "stream",
     "text": [
      "-1.2499999999999725\n"
     ]
    }
   ],
   "source": [
    "#  Call the function and print the results.  Actual min is at -1.25\n",
    "x0, count = gradient_descent(quadratic_derivative, 4)\n",
    "print(x0)"
   ]
  },
  {
   "cell_type": "markdown",
   "metadata": {},
   "source": [
    "##  The Effects of $\\gamma$\n",
    "\n",
    "Too large a value of $\\gamma$ can cause us to overshoot the minimum while too small a value will stop us from making progress.\n",
    "\n",
    "A potential way to see what is happening is to plot the function value at each iteration of the loop.  We should be moving down with each step until the code converges."
   ]
  },
  {
   "cell_type": "code",
   "execution_count": 13,
   "metadata": {},
   "outputs": [
    {
     "name": "stdout",
     "output_type": "stream",
     "text": [
      "-1.2499999999999725\n"
     ]
    },
    {
     "data": {
      "text/plain": [
       "(0.0, 10000.0)"
      ]
     },
     "execution_count": 13,
     "metadata": {},
     "output_type": "execute_result"
    },
    {
     "data": {
      "image/png": "[encoded data removed]",
      "text/plain": [
       "<Figure size 432x288 with 1 Axes>"
      ]
     },
     "metadata": {
      "needs_background": "light"
     },
     "output_type": "display_data"
    }
   ],
   "source": [
    "x0, count, X, J = gradient_descent(quadratic_derivative, 4, gamma = 1e-3, debug = True, f = quadratic)\n",
    "print(x0)\n",
    "\n",
    "#  Lets plot the function value at each iteration.  We should be constanly decreaseing.\n",
    "#  I added 2 to the function bvalue because I wanted to plot it on a log scale.\n",
    "#  The actual minimum is around -1.25 which would cause a problem on a plot of this type.\n",
    "plt.semilogy(J+2, '.')\n",
    "plt.xlim([0, 10000] )"
   ]
  },
  {
   "cell_type": "markdown",
   "metadata": {},
   "source": [
    "##  Local vs. Global minima"
   ]
  },
  {
   "cell_type": "markdown",
   "metadata": {},
   "source": [
    "  Consider the equation,\n",
    "  \n",
    "  $$y = \\frac{1}{2}x^4 - 10 x^3 +50 x^2 + 12 x - 54$$"
   ]
  },
  {
   "cell_type": "code",
   "execution_count": 14,
   "metadata": {},
   "outputs": [
    {
     "name": "stdout",
     "output_type": "stream",
     "text": [
      "-0.11593645488434078\n",
      "9.875379637224436\n"
     ]
    },
    {
     "data": {
      "text/plain": [
       "[<matplotlib.lines.Line2D at 0x21e518fd9e8>]"
      ]
     },
     "execution_count": 14,
     "metadata": {},
     "output_type": "execute_result"
    },
    {
     "data": {
      "image/png": "[encoded data removed]",
      "text/plain": [
       "<Figure size 432x288 with 1 Axes>"
      ]
     },
     "metadata": {
      "needs_background": "light"
     },
     "output_type": "display_data"
    }
   ],
   "source": [
    "x = np.linspace(-2, 12, 200)\n",
    "y = 0.5 *  np.power(x, 4) - 10  * np.power(x, 3) + 50 * np.power(x, 2) + 12 * x - 54\n",
    "\n",
    "plt.plot(x, y, 'k')\n",
    "plt.grid(True)\n",
    "\n",
    "def quartic(x, args = None):\n",
    "    return  0.5 *  np.power(x, 4) - 10  * np.power(x, 3) + 50 * np.power(x, 2) + 12 * x - 54\n",
    "\n",
    "def quartic_derivative(x, args = None):\n",
    "    return 2 * np.power(x, 3) - 30 * np.power(x, 2) + 100 * x + 12\n",
    "\n",
    "x0, count = gradient_descent(quartic_derivative, -2)\n",
    "print(x0)\n",
    "plt.plot(x0, quartic(x0), 'o')\n",
    "\n",
    "x0, count = gradient_descent(quartic_derivative, 6)\n",
    "print(x0)\n",
    "plt.plot(x0, quartic(x0), 'o')"
   ]
  },
  {
   "cell_type": "markdown",
   "metadata": {},
   "source": [
    "## Numerical Estimation of the Derivative or Gradient"
   ]
  },
  {
   "cell_type": "code",
   "execution_count": 15,
   "metadata": {},
   "outputs": [],
   "source": [
    "#  Estimate the derivative of f with a central difference equation\n",
    "def derivative_approx(f, x, delta = 1e-7, args = None):\n",
    "    return (  (f(x + delta) - f(x - delta)) / (2 * delta) )\n",
    "\n",
    "#  I chose to use a lambda here though I could have just written it as a ormal function.\n",
    "my_deriv = lambda x, args : derivative_approx(quadratic, x)"
   ]
  },
  {
   "cell_type": "markdown",
   "metadata": {},
   "source": [
    "Let's try our approximation for the derivative in our gradient descent function."
   ]
  },
  {
   "cell_type": "code",
   "execution_count": 16,
   "metadata": {},
   "outputs": [
    {
     "name": "stdout",
     "output_type": "stream",
     "text": [
      "-1.250000000039945\n"
     ]
    }
   ],
   "source": [
    "x0, count = gradient_descent(my_deriv, 4)\n",
    "print(x0)"
   ]
  },
  {
   "cell_type": "markdown",
   "metadata": {},
   "source": [
    "Numpy/Scipy comes with routines to do function optimization.  Let's check our results with the minimize function from scipy.optimize."
   ]
  },
  {
   "cell_type": "code",
   "execution_count": 231,
   "metadata": {},
   "outputs": [
    {
     "data": {
      "text/plain": [
       "      fun: -1.1249999999999987\n",
       " hess_inv: array([[0.25]])\n",
       "      jac: array([1.1920929e-07])\n",
       "  message: 'Optimization terminated successfully.'\n",
       "     nfev: 9\n",
       "      nit: 2\n",
       "     njev: 3\n",
       "   status: 0\n",
       "  success: True\n",
       "        x: array([-1.24999997])"
      ]
     },
     "execution_count": 231,
     "metadata": {},
     "output_type": "execute_result"
    }
   ],
   "source": [
    "minimize(quadratic, -4)"
   ]
  },
  {
   "cell_type": "markdown",
   "metadata": {},
   "source": [
    "##  Multi-Variable Csses\n",
    "\n",
    "If we have more than one variable, we need the gradient which is defined as (for two variables),\n",
    "\n",
    "$$\\nabla F(u, v) = \\frac{ \\partial F}{\\partial u} \\hat{u} + \\frac{ \\partial F}{\\partial v} \\hat{v}$$\n",
    "\n",
    "So now, we need to code a function that returns the partial derivatives of our function as a vector.\n",
    "\n",
    "###  Linear Regression\n"
   ]
  },
  {
   "cell_type": "code",
   "execution_count": 18,
   "metadata": {},
   "outputs": [
    {
     "name": "stdout",
     "output_type": "stream",
     "text": [
      "[1.90121727 0.31438759]\n",
      "Slope =  1.9012172673220806\n",
      "Intercept =  0.3143875934705495\n"
     ]
    },
    {
     "data": {
      "image/png": "[encoded data removed]",
      "text/plain": [
       "<Figure size 432x288 with 1 Axes>"
      ]
     },
     "metadata": {
      "needs_background": "light"
     },
     "output_type": "display_data"
    }
   ],
   "source": [
    "np.random.seed(1)\n",
    "\n",
    "x = np.array([1,2,3,4,5,6,7,8])\n",
    "y = 2 * x + np.random.normal(0, 1, size = x.size)\n",
    "\n",
    "plt.plot(x, y, 'o')\n",
    "plt.grid(True)\n",
    "\n",
    "#  I am using the polyfit function to do the regression.  In the past, we've used \n",
    "#  A function from scipy.stats\n",
    "p = np.polyfit(x, y, 1); print(p)\n",
    "plt.plot(x, p[0] * x + p[1], 'k')\n",
    "print('Slope = ', p[0])\n",
    "print('Intercept = ', p[1])"
   ]
  },
  {
   "cell_type": "markdown",
   "metadata": {},
   "source": [
    "We want to find a line of the form,\n",
    "$$y = mx * b$$\n",
    "where $m$ is the slope and $b$ is the y-intercept, such that we minimize the squared error between our line and the data  points.\n",
    "$$J(m, b) = \\sum_i [y_i - (mx_i + b)]^2$$\n",
    "\n",
    "We want values of $m$ and $b$ such that we minimize $J$\n",
    "\n",
    "###  Gradient Calculation\n",
    "$$\\frac{\\partial J}{\\partial m} =  \\sum_i -2x_i (y_i - mx_i - b)$$\n",
    "$$\\frac{\\partial J}{\\partial b} =  \\sum_i -2 (y_i - mx_i - b)$$"
   ]
  },
  {
   "cell_type": "code",
   "execution_count": 21,
   "metadata": {},
   "outputs": [],
   "source": [
    "def linear_regression_cost_function(x0, x, y):\n",
    "    m = x0[0]\n",
    "    b = x0[1]\n",
    "    \n",
    "    return np.sum( np.square( (y - (m*x + b)) ) )\n",
    "\n",
    "def linear_regression_gradient(x0, args):\n",
    "    x = args[0]\n",
    "    y = args[1]\n",
    "    \n",
    "    m = x0[0]\n",
    "    b = x0[1]\n",
    "\n",
    "    Fp1 = np.sum(2 * (y - m*x -b) * (-x))\n",
    "    Fp2 = np.sum(2 * (y - m * x - b) * ( -1))\n",
    "    \n",
    "    return np.array( [Fp1, Fp2] )"
   ]
  },
  {
   "cell_type": "code",
   "execution_count": 22,
   "metadata": {},
   "outputs": [],
   "source": [
    "args = (x, y)\n",
    "x0 = np.array( [-5, 2] )\n",
    "\n",
    "x0, count = gradient_descent(linear_regression_gradient, x0, args = args)"
   ]
  },
  {
   "cell_type": "code",
   "execution_count": 24,
   "metadata": {},
   "outputs": [
    {
     "name": "stdout",
     "output_type": "stream",
     "text": [
      "[1.90121727 0.31438759]\n"
     ]
    }
   ],
   "source": [
    "#  Print out our slope and intercept.\n",
    "print(x0)"
   ]
  },
  {
   "cell_type": "markdown",
   "metadata": {},
   "source": [
    "##  Simple Logistic Regression"
   ]
  },
  {
   "cell_type": "code",
   "execution_count": 25,
   "metadata": {},
   "outputs": [
    {
     "data": {
      "image/png": "[encoded data removed]",
      "text/plain": [
       "<Figure size 432x288 with 1 Axes>"
      ]
     },
     "metadata": {
      "needs_background": "light"
     },
     "output_type": "display_data"
    }
   ],
   "source": [
    "np.random.seed(5)\n",
    "\n",
    "set1 = np.random.rand(200,2 ).T\n",
    "set2 = np.random.rand(200,2 ).T\n",
    "\n",
    "theta = np.radians(45)\n",
    "R = np.array( [ [np.cos(theta), -np.sin(theta)], [np.sin(theta), np.cos(theta)] ] )\n",
    "\n",
    "set1 = np.matmul(R, set1)\n",
    "ind = np.where(set1[0,:] >= 0.02)\n",
    "set1 = np.delete(set1, ind, 1)\n",
    "\n",
    "set2 = np.matmul(R, set2)\n",
    "ind = np.where(set2[0,:] <= -0.02)\n",
    "set2 = np.delete(set2, ind, 1)\n",
    "\n",
    "theta = np.radians(-45)\n",
    "set1 = np.matmul(R, set1)\n",
    "set2 = np.matmul(R, set2)\n",
    "\n",
    "set1 = set1.T\n",
    "set2 = set2.T\n",
    "\n",
    "plt.plot(set1[:,0], set1[:,1], 'b.')\n",
    "plt.plot(set2[:,0], set2[:,1], 'r.')\n",
    "\n",
    "set1_labels = np.zeros( (set1.shape[0], 1) )\n",
    "set2_labels = np.ones( (set2.shape[0], 1) )\n",
    "\n",
    "X = np.vstack( (set1, set2) )\n",
    "Y = np.vstack( (set1_labels, set2_labels) )\n",
    "\n",
    "m, n = X.shape\n",
    "\n",
    "X = np.hstack( (np.ones( (m, 1) ), X) )"
   ]
  },
  {
   "cell_type": "markdown",
   "metadata": {},
   "source": [
    "###  Sigmoid function\n",
    "$$g(z) = \\frac{1}{1 + e^{-z}}$$"
   ]
  },
  {
   "cell_type": "code",
   "execution_count": 29,
   "metadata": {},
   "outputs": [],
   "source": [
    "def sigmoid(x):\n",
    "    return( 1 / (1 + np.exp(-x)))"
   ]
  },
  {
   "cell_type": "markdown",
   "metadata": {},
   "source": [
    "##  Vectorization, Cost Function, and Gradient\n",
    "Let theta be our parameter vector.  We will define it as a column vector,\n",
    "$$\\theta = \\left(\n",
    "\\begin{array}{c}\n",
    "\\theta_0 \\\\\n",
    "\\theta_1 \\\\\n",
    "\\theta_2\n",
    "\\end{array}\n",
    "\\right)$$\n",
    "\n",
    "$$h_\\theta = g(\\theta^\\dagger x)$$\n",
    "The function we are trying to minimize,\n",
    "\n",
    "$$J(\\theta) = \\frac{1}{m} \\sum_i \\left[-y_i \\log(h_\\theta(x_i)) - (1-y_i) \n",
    "\\log(1 - h_\\theta(x_i))\\right]\n",
    "$$\n",
    "\n",
    "The gradient is given by, \n",
    "$$\n",
    "\\frac{\\partial J}{\\partial \\theta_j} = \\frac{1}{m} \\sum_i\n",
    "(h_\\theta(x_i) - y_i) x_{(j)}\n",
    "$$"
   ]
  },
  {
   "cell_type": "code",
   "execution_count": 30,
   "metadata": {},
   "outputs": [],
   "source": [
    "def logistic_cost(theta, args):\n",
    "    \n",
    "    X = args[0]\n",
    "    Y = args[1]\n",
    "    \n",
    "    m = Y.size\n",
    "          \n",
    "    term1 = np.multiply( -Y.T, np.log( sigmoid( np.matmul(theta.T, X.T) ) ) )\n",
    "    term2 = np.multiply( (1-Y).T, np.log( 1 - sigmoid( np.matmul(theta.T, X.T)) ) )\n",
    "          \n",
    "    ans = 1 / m * np.sum(term1 - term2)\n",
    "        \n",
    "    return ans\n",
    "    \n",
    "\n",
    "def logistic_gradient(theta, args):\n",
    "    \n",
    "    X = args[0]\n",
    "    Y = args[1]\n",
    "    \n",
    "    m = Y.size\n",
    "\n",
    "    theta = theta[:, np.newaxis]\n",
    "    \n",
    "    temp = sigmoid( np.matmul(theta.T, X.T) ).T - Y\n",
    "    temp = np.multiply(temp, X)\n",
    "    temp = 1 / m * np.sum(temp, axis = 0)\n",
    "    \n",
    "    return temp"
   ]
  },
  {
   "cell_type": "code",
   "execution_count": 31,
   "metadata": {},
   "outputs": [
    {
     "name": "stdout",
     "output_type": "stream",
     "text": [
      "[ 0.26070192 21.51200312 20.72742558]\n"
     ]
    }
   ],
   "source": [
    "args = [X, Y]\n",
    "x0 = np.zeros( (3, ))\n",
    "\n",
    "#  The commented-out line below is what I used in the video\n",
    "#x0, count, theta, J = gradient_descent(gradient, x0, args = args, f = cost, debug=True, max_iter = 5e7, gamma = 1e-3)\n",
    "\n",
    "#  This doesn't quite converge, but it still looks relatively good when I plot the decision boundary\n",
    "x0, count, theta, J = gradient_descent(logistic_gradient, x0, args = args, f = logistic_cost, debug=True, max_iter =1e6, gamma = 5e-3)\n",
    "print(x0)"
   ]
  },
  {
   "cell_type": "code",
   "execution_count": 32,
   "metadata": {},
   "outputs": [
    {
     "data": {
      "text/plain": [
       "[<matplotlib.lines.Line2D at 0x21e55183390>]"
      ]
     },
     "execution_count": 32,
     "metadata": {},
     "output_type": "execute_result"
    },
    {
     "data": {
      "image/png": "[encoded data removed]",
      "text/plain": [
       "<Figure size 432x288 with 1 Axes>"
      ]
     },
     "metadata": {
      "needs_background": "light"
     },
     "output_type": "display_data"
    }
   ],
   "source": [
    "#J = J[1::2]\n",
    "\n",
    "#  If the function drops by orders of magnitude, it cab be helpful to use a log scale on the y-axis\n",
    "#plt.semilogy(J)\n",
    "\n",
    "#  Here, I use a linear scale\n",
    "plt.plot(J)"
   ]
  },
  {
   "cell_type": "markdown",
   "metadata": {},
   "source": [
    "Let's plot the decision boundary."
   ]
  },
  {
   "cell_type": "code",
   "execution_count": 33,
   "metadata": {},
   "outputs": [
    {
     "data": {
      "text/plain": [
       "[<matplotlib.lines.Line2D at 0x21e5783a470>]"
      ]
     },
     "execution_count": 33,
     "metadata": {},
     "output_type": "execute_result"
    },
    {
     "data": {
      "image/png": "[encoded data removed]",
      "text/plain": [
       "<Figure size 432x288 with 1 Axes>"
      ]
     },
     "metadata": {
      "needs_background": "light"
     },
     "output_type": "display_data"
    }
   ],
   "source": [
    "plt.plot(set1[:,0], set1[:,1], 'b.')\n",
    "plt.plot(set2[:,0], set2[:,1], 'r.')\n",
    "\n",
    "x = np.linspace(-1, 0)\n",
    "y = (0.5 - x0[0] - x0[1] * x) / x0[2]\n",
    "\n",
    "plt.plot(x, y, 'k')"
   ]
  },
  {
   "cell_type": "code",
   "execution_count": null,
   "metadata": {},
   "outputs": [],
   "source": []
  }
 ],
 "metadata": {
  "kernelspec": {
   "display_name": "Python 3",
   "language": "python",
   "name": "python3"
  },
  "language_info": {
   "codemirror_mode": {
    "name": "ipython",
    "version": 3
   },
   "file_extension": ".py",
   "mimetype": "text/x-python",
   "name": "python",
   "nbconvert_exporter": "python",
   "pygments_lexer": "ipython3",
   "version": "3.7.1"
  }
 },
 "nbformat": 4,
 "nbformat_minor": 2
}
