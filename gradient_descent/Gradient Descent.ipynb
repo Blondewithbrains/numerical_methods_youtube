{
 "cells": [
  {
   "cell_type": "code",
   "execution_count": 11,
   "metadata": {},
   "outputs": [],
   "source": [
    "import numpy as np\n",
    "import matplotlib.pyplot as plt\n",
    "from scipy.optimize import minimize\n",
    "\n",
    "%matplotlib inline"
   ]
  },
  {
   "cell_type": "markdown",
   "metadata": {},
   "source": [
    "Consider the equation: \n",
    "$$y = 2x^2 + 5x + 2 $$\n",
    "\n",
    "We define the function and its derivative below."
   ]
  },
  {
   "cell_type": "code",
   "execution_count": 15,
   "metadata": {},
   "outputs": [],
   "source": [
    "def tangent_line(m, x0, y0, length = 1):\n",
    "#  Helper function for drawning tangent linesdef tangent_line(m, x0, y0, length = 1):\n",
    "    x = np.linspace(x0 - length / 2, x0 + length / 2)\n",
    "    y = m * (x - x0) + y0\n",
    "    return x, y\n",
    "\n",
    "#  Our function of interest, a quadratic equation\n",
    "def quadratic(x):\n",
    "    return 2 * np.power(x, 2) + 5*x + 2\n",
    "\n",
    "#  Our function's derivative\n",
    "def derivative(x, args = []):\n",
    "    return 4 * x + 5"
   ]
  },
  {
   "cell_type": "code",
   "execution_count": 16,
   "metadata": {},
   "outputs": [
    {
     "name": "stdout",
     "output_type": "stream",
     "text": [
      "Slope at x =  4  is  21\n"
     ]
    },
    {
     "data": {
      "text/plain": [
       "[<matplotlib.lines.Line2D at 0x1df54a8cef0>]"
      ]
     },
     "execution_count": 16,
     "metadata": {},
     "output_type": "execute_result"
    },
    {
     "data": {
      "image/png": "[encoded data removed]",
      "text/plain": [
       "<Figure size 432x288 with 1 Axes>"
      ]
     },
     "metadata": {
      "needs_background": "light"
     },
     "output_type": "display_data"
    }
   ],
   "source": [
    "#  Plot the quadratic\n",
    "x = np.linspace(-5, 5)\n",
    "plt.plot(x, quadratic(x), 'k')\n",
    "plt.grid(True)\n",
    "plt.xlabel('x')\n",
    "plt.ylabel('y')\n",
    "plt.xlim( [-5.5, 6] )\n",
    "\n",
    "#  Plot the tangent line at our initial guess\n",
    "x0 = 4\n",
    "slope = derivative(x0)\n",
    "print('Slope at x = ', x0, ' is ', slope)\n",
    "X, Y = tangent_line(slope, x0, quadratic(x0), length = 3)\n",
    "\n",
    "plt.plot(X, Y, 'b--')"
   ]
  },
  {
   "cell_type": "markdown",
   "metadata": {},
   "source": [
    "###  Update Rule\n",
    "To reiterate, we are walking downhill (the direction of the negative of the derivative (or gradient in multidimensional case).  The equation for updating our guess of the minimum is given by,\n",
    "$$a_{n+1} = a_n - \\gamma \\nabla F(a_n)$$\n",
    "\n",
    "The constant $\\gamma$ Is a scaling fctor which allows some control over the size of the step taken.\n"
   ]
  },
  {
   "cell_type": "code",
   "execution_count": 17,
   "metadata": {},
   "outputs": [],
   "source": [
    "#  Our gradient descent implementation.  For the time being, there is no cutoff criteria other than reaching max count\n",
    "#  fprime is the function which returns the derivative or gradient\n",
    "# x0 is out initial guess for the minimum\n",
    "def gradient_descent(fprime, x0, args = None, gamma = 1e-3, max_iter = 1e5):\n",
    "    count = 0\n",
    "    \n",
    "    while count <= max_iter:\n",
    "        count = count + 1\n",
    "        x0 = x0 - gamma * fprime(x0, args)\n",
    "        \n",
    "    return x0, count\n",
    "    "
   ]
  },
  {
   "cell_type": "code",
   "execution_count": 18,
   "metadata": {},
   "outputs": [
    {
     "name": "stdout",
     "output_type": "stream",
     "text": [
      "-1.2499999999999725\n"
     ]
    }
   ],
   "source": [
    "#  Call the function and print the results.  Actual min is at -1.25\n",
    "x0, count = gradient_descent(derivative, 4)\n",
    "print(x0)"
   ]
  },
  {
   "cell_type": "code",
   "execution_count": null,
   "metadata": {},
   "outputs": [],
   "source": []
  }
 ],
 "metadata": {
  "kernelspec": {
   "display_name": "Python 3",
   "language": "python",
   "name": "python3"
  },
  "language_info": {
   "codemirror_mode": {
    "name": "ipython",
    "version": 3
   },
   "file_extension": ".py",
   "mimetype": "text/x-python",
   "name": "python",
   "nbconvert_exporter": "python",
   "pygments_lexer": "ipython3",
   "version": "3.7.1"
  }
 },
 "nbformat": 4,
 "nbformat_minor": 2
}
