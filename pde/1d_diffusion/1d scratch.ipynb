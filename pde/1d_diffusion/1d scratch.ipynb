{
 "cells": [
  {
   "cell_type": "code",
   "execution_count": 96,
   "metadata": {},
   "outputs": [],
   "source": [
    "import numpy as np\n",
    "from scipy import interpolate\n",
    "from assimulo.solvers import IDA\n",
    "from assimulo.problem import Implicit_Problem\n",
    "import matplotlib.pyplot as plt\n",
    "from assimulo.exception import TerminateSimulation\n",
    "from time import time\n",
    "\n",
    "from scipy.sparse import diags\n",
    "\n",
    "%matplotlib inline"
   ]
  },
  {
   "cell_type": "code",
   "execution_count": 97,
   "metadata": {},
   "outputs": [],
   "source": [
    "class Diffusion:\n",
    "    D = 1e-4\n",
    "    \n",
    "    def __init__(self):\n",
    "        tspan = 6000\n",
    "        \n",
    "        N = 1001\n",
    "        self.N = N\n",
    "        T0 = 20 * np.ones( (N, 1) ); T0[0] = 0; T0[-1] = 30\n",
    "        Tprime0 = np.zeros( (N, 1) )\n",
    "        \n",
    "        sw0 = T0.size * [False]\n",
    "        algvar = T0.size * [True]\n",
    "        algvar[0]  = False\n",
    "        algvar[-1] = False\n",
    "        \n",
    "        t0 = 0\n",
    "        model = Implicit_Problem(self.equation_system, T0, Tprime0, t0, sw0 = sw0)\n",
    "        \n",
    "        sim = IDA(model)\n",
    "        sim.algvar = algvar\n",
    "        sim.make_consistent('IDA_YA_YDP_INIT')\n",
    "\n",
    "        t, x, xp = sim.simulate(tspan, 500)\n",
    "        self.t = t\n",
    "        self.x = x\n",
    "        self.xp = xp\n",
    "\n",
    "        \n",
    "                \n",
    "    def equation_system(self, t, T, Tprime, sw):\n",
    "        res = np.zeros( T.shape )\n",
    "        \n",
    "        Delta = 1.0 / (self.N - 1)\n",
    "        \n",
    "        M = diags([1, -2, 1], [-1, 0, 1], shape = (T.size, T.size) )\n",
    "        \n",
    "        res = Tprime -  1 / Delta**2 * self.D *  M * T\n",
    "        res[0] = 0 - T[0]\n",
    "        res[-1] = 30 - T[-1]\n",
    "        #print(res)\n",
    "        \n",
    "        return res"
   ]
  },
  {
   "cell_type": "code",
   "execution_count": 98,
   "metadata": {},
   "outputs": [
    {
     "name": "stdout",
     "output_type": "stream",
     "text": [
      "Final Run Statistics: --- \n",
      "\n",
      " Number of steps                                 : 323\n",
      " Number of function evaluations                  : 368\n",
      " Number of Jacobian evaluations                  : 36\n",
      " Number of function eval. due to Jacobian eval.  : 36036\n",
      " Number of error test failures                   : 5\n",
      " Number of nonlinear iterations                  : 368\n",
      " Number of nonlinear convergence failures        : 0\n",
      "\n",
      "Solver options:\n",
      "\n",
      " Solver                       : IDA (BDF)\n",
      " Maximal order                : 5\n",
      " Suppressed algebr. variables : False\n",
      " Tolerances (absolute)        : 1e-06\n",
      " Tolerances (relative)        : 1e-06\n",
      "\n",
      "Simulation interval    : 0.0 - 6000.0 seconds.\n",
      "Elapsed simulation time: 5.132519900000261 seconds.\n",
      "Ellapsed time =  5.407215595245361\n",
      "(501, 1001)\n"
     ]
    }
   ],
   "source": [
    "start = time()\n",
    "problem = Diffusion()\n",
    "end = time()\n",
    "print('Ellapsed time = ', end - start)\n",
    "t = problem.t\n",
    "print(problem.x.shape)"
   ]
  },
  {
   "cell_type": "code",
   "execution_count": 99,
   "metadata": {},
   "outputs": [
    {
     "data": {
      "text/plain": [
       "[<matplotlib.lines.Line2D at 0x2764dac86a0>]"
      ]
     },
     "execution_count": 99,
     "metadata": {},
     "output_type": "execute_result"
    },
    {
     "data": {
      "image/png": "[encoded data removed]",
      "text/plain": [
       "<Figure size 432x288 with 1 Axes>"
      ]
     },
     "metadata": {
      "needs_background": "light"
     },
     "output_type": "display_data"
    }
   ],
   "source": [
    "x = np.linspace(0, 100, problem.N)\n",
    "plt.plot(x, problem.x[-1, :], '.')"
   ]
  },
  {
   "cell_type": "code",
   "execution_count": 100,
   "metadata": {},
   "outputs": [],
   "source": [
    "from IPython.display import display, Markdown, Latex"
   ]
  },
  {
   "cell_type": "code",
   "execution_count": 101,
   "metadata": {},
   "outputs": [
    {
     "data": {
      "text/markdown": [
       "$a_0$"
      ],
      "text/plain": [
       "<IPython.core.display.Markdown object>"
      ]
     },
     "metadata": {},
     "output_type": "display_data"
    },
    {
     "data": {
      "text/markdown": [
       "$a_1$"
      ],
      "text/plain": [
       "<IPython.core.display.Markdown object>"
      ]
     },
     "metadata": {},
     "output_type": "display_data"
    },
    {
     "data": {
      "text/markdown": [
       "$a_2$"
      ],
      "text/plain": [
       "<IPython.core.display.Markdown object>"
      ]
     },
     "metadata": {},
     "output_type": "display_data"
    },
    {
     "data": {
      "text/markdown": [
       "$a_3$"
      ],
      "text/plain": [
       "<IPython.core.display.Markdown object>"
      ]
     },
     "metadata": {},
     "output_type": "display_data"
    },
    {
     "data": {
      "text/markdown": [
       "$a_4$"
      ],
      "text/plain": [
       "<IPython.core.display.Markdown object>"
      ]
     },
     "metadata": {},
     "output_type": "display_data"
    }
   ],
   "source": [
    "for i in range(5):\n",
    "    s = '$a_' + str(i) + '$'\n",
    "    display(Markdown(s))"
   ]
  },
  {
   "cell_type": "code",
   "execution_count": 108,
   "metadata": {},
   "outputs": [],
   "source": [
    "class DiffusionLoop:\n",
    "    D = 1e-4\n",
    "    \n",
    "    def __init__(self):\n",
    "        tspan = 6000\n",
    "        \n",
    "        N = 1001\n",
    "        self.N = N\n",
    "        T0 = 20 * np.ones( (N, 1) ); T0[0] = 0; T0[-1] = 30\n",
    "        Tprime0 = np.zeros( (N, 1) )\n",
    "        \n",
    "        sw0 = T0.size * [False]\n",
    "        algvar = T0.size * [True]\n",
    "        algvar[0]  = False\n",
    "        algvar[-1] = False\n",
    "        \n",
    "        t0 = 0\n",
    "        model = Implicit_Problem(self.equation_system, T0, Tprime0, t0, sw0 = sw0)\n",
    "        \n",
    "        sim = IDA(model)\n",
    "        sim.algvar = algvar\n",
    "        sim.make_consistent('IDA_YA_YDP_INIT')\n",
    "\n",
    "        t, x, xp = sim.simulate(tspan, 500)\n",
    "        self.t = t\n",
    "        self.x = x\n",
    "        self.xp = xp\n",
    "\n",
    "        \n",
    "                \n",
    "    def equation_system(self, t, T, Tprime, sw):\n",
    "        res = np.zeros( T.shape )\n",
    "        \n",
    "        Delta = 1.0 / (self.N - 1)\n",
    "        \n",
    "        res[0] = 0 - T[0]\n",
    "        res[-1] = 30 - T[-1]\n",
    "        for i in range(1, T.size - 1):\n",
    "            res[i] = Tprime[i] -  1 / Delta**2 * self.D * (T[i+1] - 2 * T[i] + T[i-1])\n",
    "        \n",
    "        return res"
   ]
  },
  {
   "cell_type": "code",
   "execution_count": 109,
   "metadata": {
    "scrolled": false
   },
   "outputs": [
    {
     "name": "stdout",
     "output_type": "stream",
     "text": [
      "Final Run Statistics: --- \n",
      "\n",
      " Number of steps                                 : 323\n",
      " Number of function evaluations                  : 368\n",
      " Number of Jacobian evaluations                  : 36\n",
      " Number of function eval. due to Jacobian eval.  : 36036\n",
      " Number of error test failures                   : 5\n",
      " Number of nonlinear iterations                  : 368\n",
      " Number of nonlinear convergence failures        : 0\n",
      "\n",
      "Solver options:\n",
      "\n",
      " Solver                       : IDA (BDF)\n",
      " Maximal order                : 5\n",
      " Suppressed algebr. variables : False\n",
      " Tolerances (absolute)        : 1e-06\n",
      " Tolerances (relative)        : 1e-06\n",
      "\n",
      "Simulation interval    : 0.0 - 6000.0 seconds.\n",
      "Elapsed simulation time: 87.49782819999973 seconds.\n",
      "Ellapsed time =  91.28960466384888\n",
      "(501, 1001)\n"
     ]
    }
   ],
   "source": [
    "start = time()\n",
    "problem = DiffusionLoop()\n",
    "end = time()\n",
    "print('Ellapsed time = ', end - start)\n",
    "t = problem.t\n",
    "print(problem.x.shape)"
   ]
  },
  {
   "cell_type": "code",
   "execution_count": 110,
   "metadata": {},
   "outputs": [
    {
     "data": {
      "text/plain": [
       "[<matplotlib.lines.Line2D at 0x2764db870b8>]"
      ]
     },
     "execution_count": 110,
     "metadata": {},
     "output_type": "execute_result"
    },
    {
     "data": {
      "image/png": "[encoded data removed]",
      "text/plain": [
       "<Figure size 432x288 with 1 Axes>"
      ]
     },
     "metadata": {
      "needs_background": "light"
     },
     "output_type": "display_data"
    }
   ],
   "source": [
    "x = np.linspace(0, 100, problem.N)\n",
    "plt.plot(x, problem.x[-1, :], '.')"
   ]
  },
  {
   "cell_type": "code",
   "execution_count": null,
   "metadata": {},
   "outputs": [],
   "source": [
    "a = np.arange(11)\n",
    "print(a)\n",
    "print(a.size)\n",
    "b = np.diff(a)\n",
    "print(b[0])"
   ]
  },
  {
   "cell_type": "markdown",
   "metadata": {},
   "source": [
    "$$\n",
    "\\left(\n",
    "\\begin{array}{l}\n",
    "T_0 \\\\\n",
    "\\frac{dT_1}{dt} \\\\\n",
    "\\frac{dT_2}{dt} \\\\\n",
    "\\vdots \\\\\n",
    "\\frac{dT_{N-1}}{dt} \\\\\n",
    "T_n\n",
    "\\end{array}\n",
    "\\right)\n",
    "= \\left(\n",
    "\\begin{matrix}\n",
    "1  &  0  & 0  & 0 & \\cdots & 0 & 0 \\\\\n",
    "1  & -2  & 1  & 0 & \\cdots & 0 & 0 \\\\\n",
    "0 & 1  & -2  & 1  & \\cdots & 0 & 0  \\\\\n",
    "\\vdots & \\vdots & \\vdots & \\vdots & \\ddots & \\vdots & \\vdots \\\\\n",
    "0 & 0 & 0 & 0 & 1 & -2 & 1 \\\\\n",
    "0 & 0 & 0 & 0 & 0 & 0 & 1\n",
    "\\end{matrix}\n",
    "\\right) \\left(\n",
    "\\begin{array}{l}\n",
    "T_0 \\\\\n",
    "T_1 \\\\\n",
    "T_2 \\\\\n",
    "\\vdots \\\\\n",
    "T_{N-1} \\\\\n",
    "T_N\n",
    "\\end{array}\n",
    "\\right)\n",
    "$$"
   ]
  },
  {
   "cell_type": "code",
   "execution_count": null,
   "metadata": {},
   "outputs": [],
   "source": []
  }
 ],
 "metadata": {
  "kernelspec": {
   "display_name": "Python 3",
   "language": "python",
   "name": "python3"
  },
  "language_info": {
   "codemirror_mode": {
    "name": "ipython",
    "version": 3
   },
   "file_extension": ".py",
   "mimetype": "text/x-python",
   "name": "python",
   "nbconvert_exporter": "python",
   "pygments_lexer": "ipython3",
   "version": "3.7.1"
  }
 },
 "nbformat": 4,
 "nbformat_minor": 2
}
