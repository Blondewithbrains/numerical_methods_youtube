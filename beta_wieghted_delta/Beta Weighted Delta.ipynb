{
 "cells": [
  {
   "cell_type": "code",
   "execution_count": 4,
   "metadata": {},
   "outputs": [],
   "source": [
    "import pandas as pd\n",
    "import numpy as np\n",
    "import matplotlib.pyplot as plt\n",
    "from scipy.stats import linregress\n",
    "\n",
    "%matplotlib inline"
   ]
  },
  {
   "cell_type": "markdown",
   "metadata": {},
   "source": [
    "##  Beta-Weighting an EEM Position\n",
    "\n",
    "These values are from 07-27/2020\n",
    "\n",
    "EEM Price = 43.81 ($E$)<br>\n",
    "SPY price = 323.22 ($S$)\n",
    "\n",
    "Delta in EEM = 22.31 ($\\Delta_E$)"
   ]
  },
  {
   "cell_type": "code",
   "execution_count": 5,
   "metadata": {},
   "outputs": [],
   "source": [
    "#  Pull in raw data.  Data is from Yahoo finance.  We are using five years of historical data to calculate the beta\n",
    "#  We also need to calculate the daily percent change in the two underlyings.\n",
    "EEM = pd.read_csv('EEM.csv');  EEM['pct'] = EEM['Close'].pct_change()\n",
    "SPY = pd.read_csv('SPY.csv');  SPY['pct'] = SPY['Close'].pct_change()\n",
    "\n",
    "#  Because the linear regression code cannot handle NaN, we delete the first element of the Numpy arrays\n",
    "eem_pct = EEM['pct'].to_numpy(); eem_pct = np.delete(eem_pct, 0)\n",
    "spy_pct = SPY['pct'].to_numpy(); spy_pct = np.delete(spy_pct, 0)"
   ]
  },
  {
   "cell_type": "markdown",
   "metadata": {},
   "source": [
    "##  Step 1\n",
    "Calculate $\\beta$ for the stok.  This is the slope of the regression line.\n",
    "\n",
    "###  Notation and Procedure\n",
    "$dE$  is differential change in EEM price<br>\n",
    "$dS$ is differential change in SPY price\n",
    "\n",
    "Let our deltas in EEM be the derivative of the option position with respect to the price of EEM,\n",
    "$$\\Delta_E = \\frac{dC}{dE}.$$\n",
    "\n",
    "The beta of the stock can be though of as the raition of the fractional changes in price,\n",
    "$$\\beta = \\frac{dE}{dS}\\frac{S}{E}.$$\n",
    "\n",
    "We want to recast the top equation in therms of the SPY price.  That is our SPY-weighted delta.  After some algebra, we have, \n",
    "$$\\Delta_S = \\frac{dC}{dS} = \\frac{\\beta E \\Delta_E}{S}.$$\n",
    "\n",
    "In general, the beta weight delta can be written as,\n",
    "$$\\frac{\\beta \\times \\Delta \\times \\mbox{Stock Price}}{\\mbox{Index Price}}.$$"
   ]
  },
  {
   "cell_type": "code",
   "execution_count": 7,
   "metadata": {},
   "outputs": [
    {
     "name": "stdout",
     "output_type": "stream",
     "text": [
      "beta =  0.9689665505647693\n",
      "Spy-weighted delta =  2.9301063436210972\n"
     ]
    },
    {
     "data": {
      "image/png": "[encoded data removed]",
      "text/plain": [
       "<Figure size 432x288 with 1 Axes>"
      ]
     },
     "metadata": {
      "needs_background": "light"
     },
     "output_type": "display_data"
    }
   ],
   "source": [
    "#  Plot the raw percent change data.\n",
    "plt.plot(spy_pct, eem_pct, '.')\n",
    "plt.grid(True)\n",
    "plt.xlabel('dS/S')\n",
    "plt.ylabel('dE/E')\n",
    "\n",
    "#  Do the linear regression.  We are interested in the slope as that is our beta.\n",
    "slope, intercept, r_value, p_value, std_err =  linregress(spy_pct, eem_pct)\n",
    "print('beta = ', slope)\n",
    "beta = slope\n",
    "\n",
    "#  Plot the regression line on top of our raw data.\n",
    "x = np.linspace(-0.1, 0.1)\n",
    "y = slope * x + intercept\n",
    "plt.plot(x, y, 'k')\n",
    "\n",
    "#  The delta of our option position as well as the prices of both underlyings\n",
    "eem_delta = 22.31\n",
    "E = 43.81\n",
    "S = 323.22\n",
    "\n",
    "#  Calculate our beta-weighted delta\n",
    "spy_eq_delta = slope * E * eem_delta / S\n",
    "print('Spy-weighted delta = ', spy_eq_delta)"
   ]
  },
  {
   "cell_type": "code",
   "execution_count": null,
   "metadata": {},
   "outputs": [],
   "source": []
  }
 ],
 "metadata": {
  "kernelspec": {
   "display_name": "Python 3",
   "language": "python",
   "name": "python3"
  },
  "language_info": {
   "codemirror_mode": {
    "name": "ipython",
    "version": 3
   },
   "file_extension": ".py",
   "mimetype": "text/x-python",
   "name": "python",
   "nbconvert_exporter": "python",
   "pygments_lexer": "ipython3",
   "version": "3.7.1"
  }
 },
 "nbformat": 4,
 "nbformat_minor": 2
}
