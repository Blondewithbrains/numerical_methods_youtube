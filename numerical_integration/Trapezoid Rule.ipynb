{
 "cells": [
  {
   "cell_type": "markdown",
   "metadata": {},
   "source": [
    "Suppose we have some function $f(x)$.  This could be a known function or a series of data points.  We need to calculate,\n",
    "\n",
    "$$\\int_a^b f(x) dx$$\n",
    "\n",
    "Recall that the definite integral  represents the area under the curve.  See the figure below for a graphical interpretation. \n",
    "<img src=\"basic_area_under_curve.png\" widht=\"50%\"><br>\n",
    "\n",
    "We can approximate the true area by subdividing our interval $(a, b)$ into several smaller subintervals and using a trapezoid in each subinterval to estimate the area.  See the figure below for an example with two trapezoids.\n",
    "<img src=\"trapazoids.png\" width=\"50%\">\n",
    "Recall the area of a trapazoid is,\n",
    "$$A_i = \\Delta x \\frac{f(a) + f(b)}{2}.$$\n",
    "The total area is then the sum of areas $A_i$.\n",
    "\n",
    "Note that you can have a negative area.\n",
    "<img src=\"negative_area.png\" widht=\"50%\">"
   ]
  },
  {
   "cell_type": "code",
   "execution_count": 14,
   "metadata": {},
   "outputs": [],
   "source": [
    "#  Usual imports\n",
    "import numpy as np\n",
    "from scipy.integrate import quadrature\n",
    "\n",
    "import matplotlib.pyplot as plt\n",
    "from matplotlib.patches import Polygon\n",
    "import matplotlib\n",
    "from matplotlib.collections import PatchCollection\n",
    "\n",
    "%matplotlib inline"
   ]
  },
  {
   "cell_type": "code",
   "execution_count": 20,
   "metadata": {},
   "outputs": [],
   "source": [
    "#  Utility function to draw our trapezoids.  It returns a patchCollection object for plotting\n",
    "#  as well as a list of points making up each trapezoid.  We will use the list to figure our \n",
    "#  the area of each.\n",
    "def return_trapezoids(f, xmin, xmax, N = 4):\n",
    "    \n",
    "    #  Span between xmin and xmax\n",
    "    R = float(xmax - xmin)\n",
    "    \n",
    "    #  Grid spacing\n",
    "    h   = R / float(N)\n",
    "\n",
    "    patches = []\n",
    "    points = []\n",
    "\n",
    "    x = xmin\n",
    "    for i in range(N):\n",
    "        \n",
    "        #  Points on the left-hand side of the trapezoid\n",
    "        point1 = [x, 0]\n",
    "        point2 = [x, f(x)]\n",
    "        \n",
    "        #  Calculate the points on the right-hand side  The new x value is\n",
    "        #  the original shifted over by h.\n",
    "        x = x + h\n",
    "        point3 = [x, f(x)]\n",
    "        point4 = [x, 0]\n",
    "\n",
    "        #  Append these to our points list\n",
    "        points.append( (point1, point2, point3, point4))\n",
    "        \n",
    "        #  The Polygon command requires a numpy array so we place\n",
    "        #  Each vertex into an array\n",
    "        polygon = np.vstack( (point1, point2, point3, point4))\n",
    "\n",
    "        #  Append polygon to patches list.  The bollean forces the polygon to be closed when set to true\n",
    "        patches.append( Polygon(polygon, True))\n",
    "\n",
    "    #  Create our patch collection.  Make it somewhat transparent.  Set the edgecolor to bacl\n",
    "    p = PatchCollection(patches, cmap=matplotlib.cm.jet, alpha=0.4, ec='k')\n",
    "    return p, points"
   ]
  },
  {
   "cell_type": "code",
   "execution_count": 21,
   "metadata": {},
   "outputs": [],
   "source": [
    "#  For such a simple problem, we don't really need a function like this, we could just use\n",
    "#  np.sin(x) directly, but for complex problems, this is the route I would take\n",
    "def f(x):\n",
    "    return np.sin(x)"
   ]
  },
  {
   "cell_type": "code",
   "execution_count": 17,
   "metadata": {},
   "outputs": [
    {
     "data": {
      "text/plain": [
       "<matplotlib.collections.PatchCollection at 0x149d2a89128>"
      ]
     },
     "execution_count": 17,
     "metadata": {},
     "output_type": "execute_result"
    },
    {
     "data": {
      "image/png": "[encoded data removed]",
      "text/plain": [
       "<Figure size 432x288 with 1 Axes>"
      ]
     },
     "metadata": {
      "needs_background": "light"
     },
     "output_type": "display_data"
    }
   ],
   "source": [
    "#  Define the bounds of our integral\n",
    "a = 0\n",
    "b = 1 * np.pi\n",
    "\n",
    "#  Plot our function\n",
    "x = np.linspace(a, b, 100)\n",
    "plt.plot(x, f(x), 'k')\n",
    "plt.grid(True)\n",
    "\n",
    "#  Calculate our trapezoids and add the collection to the plot\n",
    "p, points = return_trapezoids(f, a, b, N = 50 )\n",
    "ax = plt.gca()\n",
    "ax.add_collection(p)"
   ]
  },
  {
   "cell_type": "code",
   "execution_count": 22,
   "metadata": {},
   "outputs": [
    {
     "name": "stdout",
     "output_type": "stream",
     "text": [
      "Estimated area =  1.9993419830762618\n"
     ]
    }
   ],
   "source": [
    "#  For the bounds a = 0 and b = pi, the true area is equal to two.\n",
    "#  For a = 0 and b = 2pi, the true area is zero\n",
    "\n",
    "#  Calculate the area of each trapezoid and add them all to get the total estimated area.\n",
    "area = 0\n",
    "for item in points:\n",
    "    A = (item[2][0] - item[0][0]) * (item[1][1] + item[2][1]) /2 \n",
    "    area = area + A\n",
    "    \n",
    "print('Estimated area = ', area)\n",
    "#print (np.abs(area - A_true))"
   ]
  },
  {
   "cell_type": "markdown",
   "metadata": {},
   "source": [
    "The numy command trapz(y, x) will calculate this for us.  It will use the points in the vector x and y to define the trapezoids, so for a specified function like above, it is better to have more points to get a more accurate result.  For example. we look at our sine function below using 10, 20, and 50 points."
   ]
  },
  {
   "cell_type": "code",
   "execution_count": 27,
   "metadata": {},
   "outputs": [
    {
     "name": "stdout",
     "output_type": "stream",
     "text": [
      "Area estimate with 10 points:   1.9796508112164835\n",
      "Area estimate with 10 points:   1.9954413183201944\n",
      "Area estimate with 10 points:   1.9993148493240622\n"
     ]
    }
   ],
   "source": [
    "x = np.linspace(a, b, 10)\n",
    "#plt.plot(x, f(x), 'k.')\n",
    "print('Area estimate with 10 points:  ', np.trapz(f(x), x))\n",
    "\n",
    "x = np.linspace(a, b, 20)\n",
    "print('Area estimate with 10 points:  ', np.trapz(f(x), x))\n",
    "\n",
    "x = np.linspace(a, b, 50)\n",
    "print('Area estimate with 10 points:  ', np.trapz(f(x), x))"
   ]
  },
  {
   "cell_type": "code",
   "execution_count": null,
   "metadata": {},
   "outputs": [],
   "source": []
  }
 ],
 "metadata": {
  "kernelspec": {
   "display_name": "Python 3",
   "language": "python",
   "name": "python3"
  },
  "language_info": {
   "codemirror_mode": {
    "name": "ipython",
    "version": 3
   },
   "file_extension": ".py",
   "mimetype": "text/x-python",
   "name": "python",
   "nbconvert_exporter": "python",
   "pygments_lexer": "ipython3",
   "version": "3.7.1"
  }
 },
 "nbformat": 4,
 "nbformat_minor": 2
}
