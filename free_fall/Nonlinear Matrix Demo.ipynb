{
 "cells": [
  {
   "cell_type": "code",
   "execution_count": null,
   "metadata": {},
   "outputs": [],
   "source": [
    "import numpy as np\n",
    "from scipy.sparse import diags, csc_matrix, save_npz\n",
    "from scipy.optimize import fsolve\n",
    "import matplotlib.pyplot as plt\n",
    "from time import time\n",
    "from scipy import io\n",
    "\n",
    "from assimulo.solvers import KINSOL\n",
    "from assimulo.problem import Algebraic_Problem\n",
    "\n",
    "\n",
    "%matplotlib inline"
   ]
  },
  {
   "cell_type": "code",
   "execution_count": null,
   "metadata": {},
   "outputs": [],
   "source": [
    "def f(x, S, N):\n",
    "    #  Constants\n",
    "    m = 70\n",
    "    R0 = 6370000\n",
    "    H = 8000\n",
    "    \n",
    "    y = np.zeros( x.shape )\n",
    "    y[0] = 32000\n",
    "    \n",
    "    y[N:] = -1/(2 * m) * np.exp(-x[0:N] / H) * x[N:] * np.abs(x[N:]) - \\\n",
    "    9.8 / np.square(1 - x[0:N] / R0)\n",
    "    \n",
    "    y[N] = 0\n",
    "    \n",
    "    res = S * x -y\n",
    "    \n",
    "    return res"
   ]
  },
  {
   "cell_type": "code",
   "execution_count": null,
   "metadata": {},
   "outputs": [],
   "source": [
    "t = np.arange(0,385, 0.1)\n",
    "N = t.shape[0]\n",
    "Delta = np.diff(t)[0]\n",
    "print(N)\n",
    "x = np.ones(2 *N)"
   ]
  },
  {
   "cell_type": "code",
   "execution_count": null,
   "metadata": {},
   "outputs": [],
   "source": [
    "#  Construct sprase matrix\n",
    "d = np.ones(2 * N) / Delta\n",
    "dm1 = -np.ones( 2 * N - 1 ) / Delta\n",
    "dN = -np.ones( N )\n",
    "\n",
    "k = [-1, 0, N]\n",
    "S = diags([dm1, d, dN], k, format = 'csc')\n",
    "S[0, 0] = 1\n",
    "S[N, N - 1] = 0"
   ]
  },
  {
   "cell_type": "code",
   "execution_count": null,
   "metadata": {},
   "outputs": [],
   "source": [
    "args = (S, N)\n",
    "\n",
    "#start = time()\n",
    "#x = fsolve(f, x, args = args)\n",
    "#end = time()"
   ]
  },
  {
   "cell_type": "code",
   "execution_count": null,
   "metadata": {},
   "outputs": [],
   "source": [
    "#plt.plot(t, x[0:N])"
   ]
  },
  {
   "cell_type": "code",
   "execution_count": null,
   "metadata": {},
   "outputs": [],
   "source": [
    "#plt.plot(t, x[N:])"
   ]
  },
  {
   "cell_type": "code",
   "execution_count": null,
   "metadata": {},
   "outputs": [],
   "source": [
    "class Problem:\n",
    "    def __init__(self, S, N):\n",
    "        self.S = S\n",
    "        self.N = N\n",
    "        \n",
    "        x = np.ones(2 * self.N)\n",
    "        \n",
    "        alg_mod = Algebraic_Problem(self.f, y0=x)\n",
    "    \n",
    "        #Define the KINSOL solver\n",
    "        alg_solver = KINSOL(alg_mod)\n",
    "    \n",
    "        #Solve\n",
    "        self.y = alg_solver.solve()\n",
    "        \n",
    "    def f(self, x):\n",
    "        #  Constants\n",
    "        m = 70\n",
    "        R0 = 6370000\n",
    "        H = 8000\n",
    "    \n",
    "        y = np.zeros( x.shape )\n",
    "        y[0] = 32000\n",
    "    \n",
    "        y[self.N:] = -1/(2 * m) * np.exp(-x[0:self.N] / H) * x[self.N:] * np.abs(x[self.N:]) - \\\n",
    "        9.8 / np.square(1 - x[0:self.N] / R0)\n",
    "    \n",
    "        y[self.N] = 0\n",
    "    \n",
    "        res = self.S * x -y\n",
    "    \n",
    "        return res"
   ]
  },
  {
   "cell_type": "code",
   "execution_count": null,
   "metadata": {
    "scrolled": true
   },
   "outputs": [],
   "source": [
    "p = Problem(S, N)"
   ]
  }
 ],
 "metadata": {
  "kernelspec": {
   "display_name": "Python 3",
   "language": "python",
   "name": "python3"
  },
  "language_info": {
   "codemirror_mode": {
    "name": "ipython",
    "version": 3
   },
   "file_extension": ".py",
   "mimetype": "text/x-python",
   "name": "python",
   "nbconvert_exporter": "python",
   "pygments_lexer": "ipython3",
   "version": "3.7.1"
  }
 },
 "nbformat": 4,
 "nbformat_minor": 2
}
