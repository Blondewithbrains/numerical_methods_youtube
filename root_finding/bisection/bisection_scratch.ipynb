{
 "cells": [
  {
   "cell_type": "code",
   "execution_count": 2,
   "metadata": {},
   "outputs": [],
   "source": [
    "import numpy as np\n",
    "import matplotlib.pyplot as plt\n",
    "\n",
    "%matplotlib inline\n",
    "\n",
    "from sympy import Symbol, diff, exp\n",
    "from IPython.display import display"
   ]
  },
  {
   "cell_type": "code",
   "execution_count": 3,
   "metadata": {},
   "outputs": [],
   "source": [
    "def newtons_method(f, fprime, R = 0, max_iter = 1000, tol=1e-3, args = [], debug = False):\n",
    "    count = 0\n",
    "    epsilon = 1\n",
    "    \n",
    "    while epsilon >= tol:\n",
    "        count += 1\n",
    "        if count >= max_iter:\n",
    "            print('Exiting on runaway loop.')\n",
    "            return (R, count)\n",
    "        \n",
    "        old_R = R\n",
    "        \n",
    "        function_value = f(R, args = args)\n",
    "        function_derivative = fprime(R, args = args)\n",
    "        \n",
    "               \n",
    "        R = -function_value / function_derivative + R\n",
    "        \n",
    "        epsilon = np.abs( (R - old_R) / old_R)\n",
    "        if debug == True:\n",
    "            print('Iteration = ', count, 'f = ', function_value, 'fprime = ', function_derivative, 'Tol = ', epsilon)\n",
    "        \n",
    "    return R, count\n",
    "\n",
    "\n",
    "def bisection(f, x1, x2, max_iter = 1000, tol = 1e-3, args = []):\n",
    "    \n",
    "    epsilon = 1\n",
    "    count = 0\n",
    "    \n",
    "    R = (x1 + x2) / 2\n",
    "    \n",
    "    while epsilon >= tol:\n",
    "        \n",
    "        count += 1\n",
    "        \n",
    "        if count >= max_iter:\n",
    "            print('Exiting on runaway loop.')\n",
    "            return (R, count)\n",
    "        \n",
    "        old_R = R\n",
    "        \n",
    "        f_root = f(R, args)\n",
    "        if np.sign(f_root) == np.sign( f(x2, args) ):\n",
    "            x2 = R\n",
    "        if np.sign(f_root) == np.sign( f(x1, args) ):\n",
    "            x1 = R\n",
    "\n",
    "        R = (x1 + x2) / 2\n",
    "        \n",
    "        epsilon = np.abs((R - old_R) / old_R)\n",
    "        \n",
    "    return R, count\n",
    "\n",
    "def my_function(x, args = []):\n",
    "    return 1 / (1 + np.exp(-(x-3))) - 0.2\n",
    "\n",
    "def my_function_derivative(x, args = []):\n",
    "    return np.exp(3-x) / np.power((1 + np.exp(-(x-3))), 2)"
   ]
  },
  {
   "cell_type": "code",
   "execution_count": 4,
   "metadata": {},
   "outputs": [
    {
     "name": "stdout",
     "output_type": "stream",
     "text": [
      "1.6137056388968707\n",
      "1.6131591796875\n",
      "1.612548828125\n"
     ]
    },
    {
     "name": "stderr",
     "output_type": "stream",
     "text": [
      "C:\\Users\\moone\\Anaconda3\\lib\\site-packages\\ipykernel_launcher.py:19: RuntimeWarning: divide by zero encountered in double_scalars\n"
     ]
    },
    {
     "data": {
      "image/png": "[encoded data removed]",
      "text/plain": [
       "<Figure size 432x288 with 1 Axes>"
      ]
     },
     "metadata": {
      "needs_background": "light"
     },
     "output_type": "display_data"
    }
   ],
   "source": [
    "x = np.linspace(-5, 10, 100)\n",
    "y = my_function(x)\n",
    "\n",
    "plt.plot(x,y, 'k')\n",
    "plt.grid(True)\n",
    "\n",
    "R, count = newtons_method(my_function, my_function_derivative)\n",
    "print(R)\n",
    "plt.plot(R, my_function(R), 'o')\n",
    "\n",
    "R, count = bisection(my_function, -4, 10)\n",
    "print(R)\n",
    "plt.plot(R, my_function(R), 'r.')\n",
    "R, count = bisection(my_function, 10, 0)\n",
    "print(R)"
   ]
  },
  {
   "cell_type": "code",
   "execution_count": 38,
   "metadata": {},
   "outputs": [],
   "source": [
    "#x = Symbol('x', real = True)\n",
    "#y = 1 / (1 + exp(-(x-3))) - 0.2\n",
    "#display(y)\n",
    "#d = diff(y, x)\n",
    "#display(d)"
   ]
  },
  {
   "cell_type": "code",
   "execution_count": 8,
   "metadata": {},
   "outputs": [
    {
     "name": "stdout",
     "output_type": "stream",
     "text": [
      "2.0\n"
     ]
    },
    {
     "data": {
      "image/png": "[encoded data removed]",
      "text/plain": [
       "<Figure size 432x288 with 1 Axes>"
      ]
     },
     "metadata": {
      "needs_background": "light"
     },
     "output_type": "display_data"
    }
   ],
   "source": [
    "def q(x, args = []):\n",
    "    return np.power(x, 2) - 4\n",
    "\n",
    "x = np.linspace(-4, 4, 100)\n",
    "plt.plot(x, q(x), 'b')\n",
    "R, count = bisection(q, 1, 3)\n",
    "print(R)"
   ]
  },
  {
   "cell_type": "code",
   "execution_count": null,
   "metadata": {},
   "outputs": [],
   "source": []
  }
 ],
 "metadata": {
  "kernelspec": {
   "display_name": "Python 3",
   "language": "python",
   "name": "python3"
  },
  "language_info": {
   "codemirror_mode": {
    "name": "ipython",
    "version": 3
   },
   "file_extension": ".py",
   "mimetype": "text/x-python",
   "name": "python",
   "nbconvert_exporter": "python",
   "pygments_lexer": "ipython3",
   "version": "3.7.1"
  }
 },
 "nbformat": 4,
 "nbformat_minor": 2
}
