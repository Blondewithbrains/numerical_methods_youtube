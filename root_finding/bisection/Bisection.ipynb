{
 "cells": [
  {
   "cell_type": "code",
   "execution_count": 1,
   "metadata": {},
   "outputs": [],
   "source": [
    "import numpy as np\n",
    "import matplotlib.pyplot as plt\n",
    "from scipy.stats import norm\n",
    "\n",
    "%matplotlib inline"
   ]
  },
  {
   "cell_type": "markdown",
   "metadata": {},
   "source": [
    "##  Test Function\n",
    "$$y = \\frac{1}{1+e^{3-x}} + 0.2$$"
   ]
  },
  {
   "cell_type": "code",
   "execution_count": 2,
   "metadata": {},
   "outputs": [],
   "source": [
    "def my_function(x, args = []):\n",
    "    return 1 / (1 + np.exp(3-x)) - 0.2\n",
    "\n",
    "def my_function_derivative(x, args = []):\n",
    "    return np.exp(3-x) / np.power((1 + np.exp(-(x-3))), 2)"
   ]
  },
  {
   "cell_type": "markdown",
   "metadata": {},
   "source": [
    "##  Overview of Technique"
   ]
  },
  {
   "cell_type": "code",
   "execution_count": 4,
   "metadata": {},
   "outputs": [
    {
     "name": "stdout",
     "output_type": "stream",
     "text": [
      "3.5 0.4224593312018546\n",
      "0.75 -0.10465053510089052\n",
      "2.125 0.09421497216298874\n",
      "1.4375 -0.026711794070673422\n"
     ]
    },
    {
     "data": {
      "image/png": "[encoded data removed]",
      "text/plain": [
       "<Figure size 432x288 with 1 Axes>"
      ]
     },
     "metadata": {
      "needs_background": "light"
     },
     "output_type": "display_data"
    }
   ],
   "source": [
    "x = np.linspace(-4, 10, 100)\n",
    "plt.plot(x, my_function(x), 'b')\n",
    "plt.grid(True)\n",
    "\n",
    "#  Initial points bracketing root\n",
    "x1 = -2; x2 = 9\n",
    "\n",
    "#  Look at function value half way between our points. If function is positive, this is our new x2 point\n",
    "u = (x1 + x2) / 2; print(u, my_function(u))\n",
    "x2 = u\n",
    "\n",
    "#  Repeat process.  Here the function half way between our points innegative so this is our new x1 point\n",
    "u = (x1 + x2) / 2; print(u, my_function(u))\n",
    "x1 = u\n",
    "\n",
    "#  Repeat\n",
    "u = (x1 + x2) / 2; print(u, my_function(u))\n",
    "x2 = u\n",
    "\n",
    "#  Repeat  until some desired tolerance is reached\n",
    "u = (x1 + x2) / 2; print(u, my_function(u))\n",
    "x1 = u\n",
    "\n",
    "plt.plot(x1, 0, 'bo')\n",
    "plt.plot(x2, 0, 'bo')"
   ]
  },
  {
   "cell_type": "markdown",
   "metadata": {},
   "source": [
    "##  Implement algorithm via a function"
   ]
  },
  {
   "cell_type": "code",
   "execution_count": null,
   "metadata": {},
   "outputs": [],
   "source": [
    "def bisection(f, x1, x2, max_iter = 1000, tol = 1e-3, args = []):\n",
    "    \n",
    "    epsilon = 1\n",
    "    count = 0\n",
    "    \n",
    "    R = (x1 + x2) / 2\n",
    "    \n",
    "    while epsilon >= tol:\n",
    "        \n",
    "        count += 1\n",
    "        \n",
    "        if count >= max_iter:\n",
    "            print('Exiting on runaway loop.')\n",
    "            return (R, count)\n",
    "        \n",
    "        old_R = R\n",
    "        \n",
    "        f_root = f(R, args)\n",
    "        if np.sign(f_root) == np.sign( f(x2, args) ):\n",
    "            x2 = R\n",
    "        if np.sign(f_root) == np.sign( f(x1, args) ):\n",
    "            x1 = R\n",
    "\n",
    "        R = (x1 + x2) / 2\n",
    "        \n",
    "        epsilon = np.abs((R - old_R) / old_R)\n",
    "        \n",
    "    return R, count\n",
    "\n",
    "def newtons_method(f, fprime, R = 0, max_iter = 1000, tol=1e-3, args = [], debug = False):\n",
    "    count = 0\n",
    "    epsilon = 1\n",
    "    \n",
    "    while epsilon >= tol:\n",
    "        count += 1\n",
    "        if count >= max_iter:\n",
    "            print('Exiting on runaway loop.')\n",
    "            return (R, count)\n",
    "        \n",
    "        old_R = R\n",
    "        \n",
    "        function_value = f(R, args = args)\n",
    "        function_derivative = fprime(R, args = args)\n",
    "        \n",
    "               \n",
    "        R = -function_value / function_derivative + R\n",
    "        \n",
    "        epsilon = np.abs( (R - old_R) / old_R)\n",
    "        if debug == True:\n",
    "            print('Iteration = ', count, 'f = ', function_value, 'fprime = ', function_derivative, 'Tol = ', epsilon)\n",
    "        \n",
    "    return R, count"
   ]
  },
  {
   "cell_type": "markdown",
   "metadata": {},
   "source": [
    "##  Test our code with our trial function"
   ]
  },
  {
   "cell_type": "code",
   "execution_count": null,
   "metadata": {},
   "outputs": [],
   "source": [
    "R, count = bisection(my_function,-2, 9)\n",
    "print(R, count)\n",
    "\n",
    "#x = np.linspace(0, 20, 100)\n",
    "plt.plot(x, my_function(x), 'b')\n",
    "plt.grid(True)\n",
    "plt.plot(R, my_function(R), 'o')"
   ]
  },
  {
   "cell_type": "code",
   "execution_count": null,
   "metadata": {},
   "outputs": [],
   "source": [
    "R, count = newtons_method(my_function, my_function_derivative, R = 0)\n",
    "print(R, count)"
   ]
  },
  {
   "cell_type": "markdown",
   "metadata": {},
   "source": [
    "##  Test against our implied volatility code"
   ]
  },
  {
   "cell_type": "code",
   "execution_count": null,
   "metadata": {},
   "outputs": [],
   "source": [
    "def call_price(sigma, S, K, r, t):\n",
    "    d1 = np.multiply( 1. / sigma * np.divide(1., np.sqrt(t)),\n",
    "        np.log(S/K) + (r + sigma**2 / 2.) * t  )\n",
    "    d2 = d1 - sigma * np.sqrt(t)\n",
    "    \n",
    "    C = np.multiply(S, norm.cdf(d1)) - \\\n",
    "        np.multiply(norm.cdf(d2) * K, np.exp(-r * t))\n",
    "    return C\n",
    "\n",
    "def put_price(sigma, S, K, r, t):\n",
    "    d1 = np.multiply( 1. / sigma * np.divide(1., np.sqrt(t)),\n",
    "        np.log(S/K) + (r + sigma**2 / 2.) * t  )\n",
    "    d2 = d1 - sigma * np.sqrt(t)\n",
    "    \n",
    "    P = -np.multiply(S, norm.cdf(-d1)) + \\\n",
    "        np.multiply(norm.cdf(-d2) * K, np.exp(-r * t))\n",
    "    return P\n",
    "\n",
    "def objective_function(sigma, args):\n",
    "    S = args[0]\n",
    "    K = args[1]\n",
    "    r = args[2]\n",
    "    t = args[3]\n",
    "    price = args[4]\n",
    "    \n",
    "    return call_price(sigma, S, K, r, t) - price\n",
    "\n",
    "def calculate_vega(sigma, args):\n",
    "    S = args[0]\n",
    "    K = args[1]\n",
    "    r = args[2]\n",
    "    t = args[3]\n",
    "    \n",
    "    d1 = np.multiply( 1. / sigma * np.divide(1., np.sqrt(t)),\n",
    "        np.log(S/K) + (r + sigma**2 / 2.) * t  )\n",
    "    d2 = d1 - sigma * np.sqrt(t)\n",
    "    \n",
    "    return S * norm.pdf(d1) * np.sqrt(t)"
   ]
  },
  {
   "cell_type": "code",
   "execution_count": null,
   "metadata": {},
   "outputs": [],
   "source": [
    "S = 100.0\n",
    "K = 105.0\n",
    "t = 30.0 / 365.0\n",
    "r = 0.01\n",
    "C0 =2.30\n",
    "\n",
    "args = [S, K, r, t, C0]\n",
    "\n",
    "R, count = bisection(objective_function, 0.001, 0.5, args = args)\n",
    "print(R, count)"
   ]
  },
  {
   "cell_type": "code",
   "execution_count": null,
   "metadata": {},
   "outputs": [],
   "source": []
  }
 ],
 "metadata": {
  "kernelspec": {
   "display_name": "Python 3",
   "language": "python",
   "name": "python3"
  },
  "language_info": {
   "codemirror_mode": {
    "name": "ipython",
    "version": 3
   },
   "file_extension": ".py",
   "mimetype": "text/x-python",
   "name": "python",
   "nbconvert_exporter": "python",
   "pygments_lexer": "ipython3",
   "version": "3.7.1"
  }
 },
 "nbformat": 4,
 "nbformat_minor": 2
}
